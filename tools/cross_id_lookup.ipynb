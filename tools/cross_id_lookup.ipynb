{
 "cells": [
  {
   "cell_type": "markdown",
   "metadata": {},
   "source": [
    "## Cross Id Lookup Script\n",
    "This script was used to extract ra and dec information from the Pan-STARRS galaxies contained in the [spin parity catalog](https://github.com/cora-schallock/spin-parity-catalog) in order to perform a cross id object lookup in the [SDSS DR12 sky survery](https://skyserver.sdss.org/dr12/en/tools/crossid/crossid.aspx)"
   ]
  },
  {
   "cell_type": "code",
   "execution_count": 28,
   "metadata": {},
   "outputs": [],
   "source": [
    "import os\n",
    "import csv\n",
    "\n",
    "path_to_galaxies = \"..\\..\\spin-parity-catalog\\original\\galaxies\" #update this to be the path of the spin_parity_catalog/original/galaxies on your machine\n",
    "tables_to_cross_match = ['table2', 'table3', 'table4', 'table5']\n",
    "\n",
    "header = [\"name\",\"ra\",\"dec\"]\n",
    "output_dir = \"..\\..\\..\\cross_id\"\n",
    "\n",
    "\n",
    "def standardize_gal_name(gal_name):\n",
    "    return gal_name.strip().replace(\" \",\"_\")\n",
    "\n",
    "def can_float(to_float):\n",
    "    try:\n",
    "        float(to_float)\n",
    "        return True\n",
    "    except:\n",
    "        return False\n",
    "    \n",
    "def write_csv(csv_path,csv_col,csv_rows):\n",
    "    to_write = [csv_col]\n",
    "    to_write.extend(csv_rows)\n",
    "\n",
    "    with open(csv_path, 'w', newline='') as f:\n",
    "        writer = csv.writer(f)\n",
    "        writer.writerows(to_write) \n",
    "\n",
    "def get_ra_dec_file_path(name, table_name):\n",
    "    return os.path.join(path_to_galaxies,table_name,name,\"{}_ra_dec.txt\".format(name))\n",
    "\n",
    "def extract_ra_dec_from_file(file_path):\n",
    "    with open(file_path,'r') as f:\n",
    "        to_parse = f.read().replace(\"=\",\" \").replace(\"(\",\" \").replace(\")\",\" \").replace(\",\",\" \").split(\" \")\n",
    "        if len(to_parse) < 10: return None\n",
    "\n",
    "        ra = to_parse[5]; dec = to_parse[10]\n",
    "        if not can_float(ra) or not can_float(dec): return None\n",
    "        \n",
    "        return (float(ra),float(dec))\n",
    "    \n",
    "def run_on_table(table_name):\n",
    "    rows = []\n",
    "    for gal_name in os.listdir(os.path.join(path_to_galaxies,table_name)):\n",
    "        the_path = get_ra_dec_file_path(gal_name, table_name)\n",
    "        if not os.path.exists(the_path): continue\n",
    "\n",
    "        the_ra_and_dec = extract_ra_dec_from_file(the_path)\n",
    "        if not isinstance(the_ra_and_dec,tuple) or not len(the_ra_and_dec) == 2: continue\n",
    "        rows.append([standardize_gal_name(gal_name),the_ra_and_dec[0],the_ra_and_dec[1]])\n",
    "    write_csv(os.path.join(output_dir,\"{}.csv\".format(table_name)),header,rows)\n",
    "\n",
    "run_on_table('table5')"
   ]
  }
 ],
 "metadata": {
  "kernelspec": {
   "display_name": "Python 3",
   "language": "python",
   "name": "python3"
  },
  "language_info": {
   "codemirror_mode": {
    "name": "ipython",
    "version": 3
   },
   "file_extension": ".py",
   "mimetype": "text/x-python",
   "name": "python",
   "nbconvert_exporter": "python",
   "pygments_lexer": "ipython3",
   "version": "3.8.8"
  }
 },
 "nbformat": 4,
 "nbformat_minor": 4
}
