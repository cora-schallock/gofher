{
 "cells": [
  {
   "cell_type": "code",
   "execution_count": 1,
   "metadata": {},
   "outputs": [],
   "source": [
    "import sys\n",
    "sys.path.insert(0, '../gofher')\n",
    "\n",
    "import os\n",
    "import matplotlib.image as mpimg\n",
    "\n",
    "from gofher import run_gofher\n",
    "from visualize import visualize"
   ]
  },
  {
   "cell_type": "code",
   "execution_count": 2,
   "metadata": {},
   "outputs": [],
   "source": [
    "name = \"IC1755\"\n",
    "paper_label = \"SW\"\n",
    "folder = \"figure8\""
   ]
  },
  {
   "cell_type": "code",
   "execution_count": 3,
   "metadata": {},
   "outputs": [],
   "source": [
    "path_to_input = \"..\\\\..\\\\spin-parity-catalog-data\\\\panstarrs\\\\{}\".format(folder)\n",
    "path_to_output = \"..\\\\..\\\\..\\\\\""
   ]
  },
  {
   "cell_type": "code",
   "execution_count": 4,
   "metadata": {},
   "outputs": [],
   "source": [
    "def get_fits_path(name,band):\n",
    "    \"\"\"the file path of where existing fits files can be found\"\"\"\n",
    "    return os.path.join(path_to_input,name,\"{}_{}.fits\".format(name,band))\n",
    "\n",
    "def get_color_image_path(name):\n",
    "    return os.path.join(path_to_input,name,\"{}_color.jfif\".format(name))"
   ]
  },
  {
   "cell_type": "code",
   "execution_count": 5,
   "metadata": {},
   "outputs": [
    {
     "name": "stdout",
     "output_type": "stream",
     "text": [
      "['name', 'paper_label', 'pos_label', 'neg_label', 'r-i_pos_mean', 'r-i_pos_std', 'r-i_neg_mean', 'r-i_neg_std', 'r-i_ks_stat', 'r-i_ks_pval', 'r-i_label', 'r-i_score', 'r-z_pos_mean', 'r-z_pos_std', 'r-z_neg_mean', 'r-z_neg_std', 'r-z_ks_stat', 'r-z_ks_pval', 'r-z_label', 'r-z_score', 'r-y_pos_mean', 'r-y_pos_std', 'r-y_neg_mean', 'r-y_neg_std', 'r-y_ks_stat', 'r-y_ks_pval', 'r-y_label', 'r-y_score', 'i-z_pos_mean', 'i-z_pos_std', 'i-z_neg_mean', 'i-z_neg_std', 'i-z_ks_stat', 'i-z_ks_pval', 'i-z_label', 'i-z_score', 'i-y_pos_mean', 'i-y_pos_std', 'i-y_neg_mean', 'i-y_neg_std', 'i-y_ks_stat', 'i-y_ks_pval', 'i-y_label', 'i-y_score', 'z-y_pos_mean', 'z-y_pos_std', 'z-y_neg_mean', 'z-y_neg_std', 'z-y_ks_stat', 'z-y_ks_pval', 'z-y_label', 'z-y_score', 'total', 'score']\n",
      "['IC1755', 'SW', 'E', 'W', -0.007293237356381694, 0.014218876044807214, -0.009312114028072338, 0.01697405574547041, 0.06033171287904843, 0.05248801688579457, 'W', 1, -0.005676996893468754, 0.013127719754996083, -0.0069245575188131665, 0.014151517181473621, 0.05190411124434158, 0.13423137781801883, 'W', 1, -0.022048670550994385, 0.0164305771283118, -0.024158189805076394, 0.01805658234638168, 0.06840609885700653, 0.01871150681529139, 'W', 1, 0.0016162404629129397, 0.005833698101249772, 0.002387556509259171, 0.006371812584713542, 0.07474848876371422, 0.007601942793365658, 'E', -1, -0.01475543319461269, 0.009847630157687633, -0.014846075777004057, 0.009373591421620376, 0.029137193298817348, 0.7809800187168758, 'W', 1, -0.01637167365752563, 0.010051499343659322, -0.017233632286263227, 0.009868110020808278, 0.06485845037474942, 0.02990317684443092, 'W', 1, 4, 1]\n"
     ]
    },
    {
     "name": "stderr",
     "output_type": "stream",
     "text": [
      "c:\\Users\\school\\Desktop\\github\\gofher\\examples\\../gofher\\visualize.py:164: UserWarning: Matplotlib is currently using agg, which is a non-GUI backend, so cannot show the figure.\n",
      "  plt.show()\n"
     ]
    }
   ],
   "source": [
    "if not os.path.exists(path_to_input):\n",
    "    raise ValueError(\"The path to the input is not found {} - make sure you update path_to_input\".format(path_to_input))\n",
    "\n",
    "if not os.path.exists(path_to_output):\n",
    "    raise ValueError(\"The path output is not found {} - make sure you update ppath_to_output\".format(path_to_output))\n",
    "\n",
    "gal = run_gofher(name,get_fits_path,['g','r','i','z','y'],['i','z','y','r'], paper_label)\n",
    "\n",
    "color_image = color = mpimg.imread(get_color_image_path(name))\n",
    "visualize(gal,color_image,['r','i','z','y'],paper_label)\n",
    "\n",
    "(header,row) = gal.get_verbose_csv_header_and_row(['r','i','z','y'],paper_label)\n",
    "print(header)\n",
    "print(row)"
   ]
  },
  {
   "cell_type": "code",
   "execution_count": null,
   "metadata": {},
   "outputs": [],
   "source": []
  }
 ],
 "metadata": {
  "kernelspec": {
   "display_name": "gofher_env",
   "language": "python",
   "name": "python3"
  },
  "language_info": {
   "codemirror_mode": {
    "name": "ipython",
    "version": 3
   },
   "file_extension": ".py",
   "mimetype": "text/x-python",
   "name": "python",
   "nbconvert_exporter": "python",
   "pygments_lexer": "ipython3",
   "version": "3.11.3"
  }
 },
 "nbformat": 4,
 "nbformat_minor": 2
}
