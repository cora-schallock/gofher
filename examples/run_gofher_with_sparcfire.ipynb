{
 "cells": [
  {
   "cell_type": "code",
   "execution_count": 13,
   "metadata": {},
   "outputs": [],
   "source": [
    "import os\n",
    "import sys\n",
    "sys.path.insert(0, '../gofher')\n",
    "\n",
    "import itertools\n",
    "\n",
    "from spin_parity import read_spin_parity_galaxies_label_from_csv\n",
    "from sparcfire import read_sparcfire_galaxy_csv, get_ref_band_and_gofher_params\n",
    "from panstarrs import create_panstarrs_csv, PANSTARRS_REF_BANDS_IN_ORDER, PANSTARRS_BANDS_IN_ORDER\n",
    "from run_gofher_on_a_galaxy import run_panstarrs_with_sparcfire"
   ]
  },
  {
   "cell_type": "code",
   "execution_count": null,
   "metadata": {},
   "outputs": [],
   "source": []
  },
  {
   "cell_type": "code",
   "execution_count": 14,
   "metadata": {},
   "outputs": [],
   "source": [
    "#path_to_input = \"C:\\\\Users\\\\school\\\\Desktop\\\\github\\\\spin-parity-catalog\\\\original\\\\galaxies\\\\\" #PANSTARRS\n",
    "path_to_input = \"C:\\\\Users\\\\school\\\\Desktop\\\\cross_id\\\\sdss_mosaic_construction\" #SDSS\n",
    "folder_name = \"table5\"\n",
    "\n",
    "path_to_output = \"C:\\\\Users\\\\school\\\\Desktop\\\\gofher_output_refactor\"\n",
    "#output_folder_name = 'gofher_panstarrs_sparcfire_test' #PANSTARRS\n",
    "output_folder_name = 'gofher_sdss_sparcfire_test' #SDSS\n",
    "\n",
    "visualize_gals=True\n",
    "make_csv=False\n",
    "\n",
    "def get_fits_path(name,band):\n",
    "    \"\"\"the file path of where existing fits files can be found\"\"\"\n",
    "    return os.path.join(path_to_input,folder_name,name,\"{}_{}.fits\".format(name,band))\n",
    "\n",
    "def get_galaxy_list():\n",
    "    \"\"\"the list of galaxy names to run on\"\"\"\n",
    "    return os.listdir(os.path.join(path_to_input,folder_name))\n",
    "\n",
    "def get_save_vis_path(name):\n",
    "    \"\"\"the file path specifying where to save the visualizitaion\"\"\"\n",
    "    return os.path.join(path_to_output,output_folder_name,folder_name,\"{}.png\".format(name))\n",
    "\n",
    "def get_csv_out_path():\n",
    "    \"\"\"the file path specifying where to save the ouput csv\"\"\"\n",
    "    return os.path.join(path_to_output,output_folder_name,\"{}.csv\".format(folder_name))\n",
    "\n",
    "def get_color_image_path(name):\n",
    "    return os.path.join(path_to_input,folder_name,name,\"{}_color.jfif\".format(name))\n",
    "\n",
    "def get_dark_side_csv_path():\n",
    "    csv_path = \"C:\\\\Users\\\\school\\\\Desktop\\\\github\\\\spin-parity-catalog\\\\table_info\\\\csv_format_of_table\\\\\"\n",
    "    return os.path.join(csv_path,\"table_{}.csv\".format(folder_name.strip()[-1]))"
   ]
  },
  {
   "cell_type": "code",
   "execution_count": 15,
   "metadata": {},
   "outputs": [
    {
     "name": "stdout",
     "output_type": "stream",
     "text": [
      "1 IC2247\n",
      "2 IC540\n",
      "3 IC944\n",
      "4 MCG-02-02-040\n",
      "5 MCG-02-03-015\n",
      "6 NGC1542\n",
      "7 NGC3067\n",
      "8 NGC3169\n",
      "9 NGC3495\n",
      "10 NGC3626\n",
      "11 NGC4605\n",
      "12 NGC4772\n",
      "13 NGC6314\n",
      "14 NGC681\n",
      "15 UGC10205\n",
      "16 UGC10297\n",
      "17 UGC3107\n",
      "18 UGC5111\n",
      "19 UGC5498\n",
      "20 UGC6036\n",
      "21 UGC8267\n",
      "22 UGC8778\n",
      "23 UGC9665\n"
     ]
    }
   ],
   "source": [
    "#path_to_sparcfire_csv = \"C:\\\\Users\\\\school\\\\Desktop\\\\github\\\\spin-parity-catalog\\\\original\\\\output_from_running\\\\SpArcFiRe\\\\{}\\\\galaxy.csv\".format(folder_name) #PANSTARRS\n",
    "path_to_sparcfire_csv = \"C:\\\\Users\\\\school\\\\Desktop\\\\cross_id\\\\sdss_mosaic_construction\\\\SpArcFiRe_output\\\\{}\\\\G.out\\\\galaxy.csv\".format(folder_name) #SDSS\n",
    "sparcfire_galaxy_csv = read_sparcfire_galaxy_csv(path_to_sparcfire_csv)\n",
    "\n",
    "dark_side_labels = read_spin_parity_galaxies_label_from_csv(get_dark_side_csv_path())\n",
    "if folder_name == \"table2\" and \"IC 2101\" in dark_side_labels:\n",
    "    dark_side_labels[\"IC2101\"] = dark_side_labels[\"IC 2101\"]\n",
    "\n",
    "the_gals = []\n",
    "i = 1\n",
    "for name in sparcfire_galaxy_csv:\n",
    "    print(i,name)\n",
    "    i += 1\n",
    "    try:\n",
    "        sparcfire_bands = sparcfire_galaxy_csv[name]\n",
    "\n",
    "        save_vis_path = ''\n",
    "        if visualize_gals:\n",
    "            save_vis_path=get_save_vis_path(name)\n",
    "\n",
    "        paper_dark_side_label = dark_side_labels[name]\n",
    "    \n",
    "        the_gal = run_panstarrs_with_sparcfire(name, get_fits_path, sparcfire_bands, save_vis_path=save_vis_path,dark_side_label=paper_dark_side_label,color_image_path=get_color_image_path(name))\n",
    "        the_gals.append(the_gal)\n",
    "    except:\n",
    "        print(\"Error when running on\",name)\n",
    "\n",
    "if make_csv:\n",
    "    the_band_pairs = list(itertools.combinations(PANSTARRS_BANDS_IN_ORDER, 2)) #PANSTARRS\n",
    "    #the_band_pairs = list(itertools.combinations(SDSS_BANDS_IN_ORDER, 2)) #SDSS\n",
    "    create_panstarrs_csv(the_gals,the_band_pairs,get_csv_out_path())"
   ]
  }
 ],
 "metadata": {
  "kernelspec": {
   "display_name": "gofher_env",
   "language": "python",
   "name": "python3"
  },
  "language_info": {
   "codemirror_mode": {
    "name": "ipython",
    "version": 3
   },
   "file_extension": ".py",
   "mimetype": "text/x-python",
   "name": "python",
   "nbconvert_exporter": "python",
   "pygments_lexer": "ipython3",
   "version": "3.11.3"
  }
 },
 "nbformat": 4,
 "nbformat_minor": 2
}
