{
 "cells": [
  {
   "cell_type": "code",
   "execution_count": 15,
   "metadata": {},
   "outputs": [],
   "source": [
    "import sys\n",
    "sys.path.insert(0, '../gofher')\n",
    "\n",
    "import os\n",
    "import matplotlib.image as mpimg\n",
    "\n",
    "from gofher import run_gofher\n",
    "from visualize import visualize\n",
    "from spin_parity import read_spin_parity_galaxies_label_from_csv, score_label\n",
    "from file_helper import write_csv,check_if_folder_exists_and_create"
   ]
  },
  {
   "cell_type": "code",
   "execution_count": 16,
   "metadata": {},
   "outputs": [],
   "source": [
    "survery_to_use = \"panstarrs\"\n",
    "\n",
    "BANDS_IN_ORDER = ['r','i','z','y']\n",
    "REF_BANDS_IN_ORDER = ['i','z','y','r']"
   ]
  },
  {
   "cell_type": "code",
   "execution_count": 17,
   "metadata": {},
   "outputs": [],
   "source": [
    "figure_to_run_on = \"figure8\""
   ]
  },
  {
   "cell_type": "code",
   "execution_count": null,
   "metadata": {},
   "outputs": [],
   "source": [
    "generate_verbose_csv = True\n",
    "generate_ebm_csv = True\n",
    "generate_visualization = False"
   ]
  },
  {
   "cell_type": "code",
   "execution_count": 18,
   "metadata": {},
   "outputs": [],
   "source": [
    "path_to_catalog_data = \"..\\\\..\\\\..\\\\spin-parity-catalog-data\"\n",
    "path_to_output = \"..\\\\..\\\\..\\\\..\\\\\""
   ]
  },
  {
   "cell_type": "code",
   "execution_count": 19,
   "metadata": {},
   "outputs": [],
   "source": [
    "def get_fits_path(name,band):\n",
    "    \"\"\"the file path of where existing fits files can be found\"\"\"\n",
    "    return os.path.join(path_to_catalog_data,survery_to_use,figure_to_run_on,name,\"{}_{}.fits\".format(name,band))\n",
    "\n",
    "def get_color_image_path(name):\n",
    "    return os.path.join(path_to_catalog_data,survery_to_use,figure_to_run_on,name,\"{}_color.jfif\".format(name))\n",
    "\n",
    "def get_path_to_catalog_csv():\n",
    "    return os.path.join(path_to_catalog_data,\"catalog\",\"{}.csv\".format(figure_to_run_on))"
   ]
  },
  {
   "cell_type": "code",
   "execution_count": 20,
   "metadata": {},
   "outputs": [],
   "source": [
    "def get_paper_dark_side_labels():\n",
    "    return read_spin_parity_galaxies_label_from_csv(get_path_to_catalog_csv())\n",
    "\n",
    "def get_galaxies():\n",
    "    return os.listdir(os.path.join(path_to_catalog_data,survery_to_use,figure_to_run_on))"
   ]
  },
  {
   "cell_type": "code",
   "execution_count": 21,
   "metadata": {},
   "outputs": [
    {
     "name": "stdout",
     "output_type": "stream",
     "text": [
      "IC1683 1 of  136\n",
      "7.173805865462316e-47 1.0\n",
      "IC1755 2 of  136\n",
      "0.04618377256977712 0.007601942793365658\n",
      "IC5376 3 of  136\n",
      "1.0 1.2996923282194392e-119\n",
      "MCG-02-02-030 4 of  136\n",
      "1.051148030613628e-109 1.0\n",
      "MCG-02-51-004 5 of  136\n",
      "1.0 3.5828242013703966e-76\n",
      "NGC1035 6 of  136\n"
     ]
    },
    {
     "name": "stderr",
     "output_type": "stream",
     "text": [
      "c:\\Users\\school\\Desktop\\github\\gofher_refactor\\gofher\\examples\\../gofher\\ebm.py:63: RuntimeWarning: divide by zero encountered in log\n",
      "  x = 2.0*sum([-np.log(p) for p in p_values])\n"
     ]
    },
    {
     "name": "stdout",
     "output_type": "stream",
     "text": [
      "1.0 0.0\n",
      "NGC1056 7 of  136\n"
     ]
    },
    {
     "name": "stderr",
     "output_type": "stream",
     "text": [
      "c:\\Users\\school\\Desktop\\github\\gofher_refactor\\gofher\\examples\\../gofher\\ebm.py:63: RuntimeWarning: divide by zero encountered in log\n",
      "  x = 2.0*sum([-np.log(p) for p in p_values])\n"
     ]
    },
    {
     "name": "stdout",
     "output_type": "stream",
     "text": [
      "0.0 1.0\n",
      "NGC1084 8 of  136\n",
      "1.1521398440221124e-104 1.0\n",
      "NGC1093 9 of  136\n",
      "0.011300034068704645 4.795977296812496e-14\n",
      "NGC1097 10 of  136\n"
     ]
    },
    {
     "name": "stderr",
     "output_type": "stream",
     "text": [
      "c:\\Users\\school\\Desktop\\github\\gofher_refactor\\gofher\\examples\\../gofher\\ebm.py:63: RuntimeWarning: divide by zero encountered in log\n",
      "  x = 2.0*sum([-np.log(p) for p in p_values])\n"
     ]
    },
    {
     "name": "stdout",
     "output_type": "stream",
     "text": [
      "0.0 1.0\n",
      "NGC1421 11 of  136\n",
      "1.0 1.1394317305251744e-41\n",
      "NGC157 12 of  136\n",
      "1.0 2.5134011177040653e-80\n",
      "NGC1637 13 of  136\n",
      "7.580924175093651e-107 1.0\n",
      "NGC1667 14 of  136\n",
      "0.0008762866333842759 3.870328440888794e-58\n",
      "NGC169 15 of  136\n",
      "1.0 3.622345012840898e-65\n",
      "NGC1961 16 of  136\n"
     ]
    },
    {
     "name": "stderr",
     "output_type": "stream",
     "text": [
      "c:\\Users\\school\\Desktop\\github\\gofher_refactor\\gofher\\examples\\../gofher\\ebm.py:63: RuntimeWarning: divide by zero encountered in log\n",
      "  x = 2.0*sum([-np.log(p) for p in p_values])\n"
     ]
    },
    {
     "name": "stdout",
     "output_type": "stream",
     "text": [
      "0.0 1.0\n",
      "NGC2280 17 of  136\n",
      "1.0 0.0\n",
      "NGC2347 18 of  136\n",
      "4.2645327146450465e-68 1.0\n",
      "NGC24 19 of  136\n",
      "1.0 1.216392408395054e-248\n",
      "NGC2403 20 of  136\n",
      "7.041860523268858e-132 1.0\n",
      "NGC2410 21 of  136\n",
      "1.0 1.3265495317160528e-222\n",
      "NGC2613 22 of  136\n",
      "5.0305211618561e-287 1.0\n",
      "NGC2639 23 of  136\n",
      "1.0 9.17895981906719e-119\n",
      "NGC2683 24 of  136\n"
     ]
    },
    {
     "name": "stderr",
     "output_type": "stream",
     "text": [
      "c:\\Users\\school\\Desktop\\github\\gofher_refactor\\gofher\\examples\\../gofher\\ebm.py:63: RuntimeWarning: divide by zero encountered in log\n",
      "  x = 2.0*sum([-np.log(p) for p in p_values])\n"
     ]
    },
    {
     "name": "stdout",
     "output_type": "stream",
     "text": [
      "1.0 0.0\n",
      "NGC2715 25 of  136\n",
      "1.0 9.044595548873683e-25\n",
      "NGC2742 26 of  136\n",
      "1.720799397116241e-71 0.07890287421176125\n",
      "NGC2775 27 of  136\n",
      "0.00041464426007050233 0.9328729662719655\n",
      "NGC2782 28 of  136\n",
      "1.0 1.1921242777667276e-284\n",
      "NGC2841 29 of  136\n",
      "7.311701989006345e-30 8.141377020475897e-200\n",
      "NGC2903 30 of  136\n",
      "0.0 1.0\n",
      "NGC3160 31 of  136\n",
      "1.450530858633022e-174 1.0\n",
      "NGC3175 32 of  136\n"
     ]
    },
    {
     "name": "stderr",
     "output_type": "stream",
     "text": [
      "c:\\Users\\school\\Desktop\\github\\gofher_refactor\\gofher\\examples\\../gofher\\ebm.py:63: RuntimeWarning: divide by zero encountered in log\n",
      "  x = 2.0*sum([-np.log(p) for p in p_values])\n"
     ]
    },
    {
     "name": "stdout",
     "output_type": "stream",
     "text": [
      "0.0 1.0\n",
      "NGC3198 33 of  136\n"
     ]
    },
    {
     "name": "stderr",
     "output_type": "stream",
     "text": [
      "c:\\Users\\school\\Desktop\\github\\gofher_refactor\\gofher\\examples\\../gofher\\ebm.py:63: RuntimeWarning: divide by zero encountered in log\n",
      "  x = 2.0*sum([-np.log(p) for p in p_values])\n"
     ]
    },
    {
     "name": "stdout",
     "output_type": "stream",
     "text": [
      "0.0 1.0\n",
      "NGC3227 34 of  136\n",
      "0.0 5.195008528056202e-10\n",
      "NGC3310 35 of  136\n",
      "8.067067800365167e-90 7.980942115256239e-85\n",
      "NGC3312 36 of  136\n",
      "1.0 9.990580137462724e-179\n",
      "NGC3368 37 of  136\n"
     ]
    },
    {
     "name": "stderr",
     "output_type": "stream",
     "text": [
      "c:\\Users\\school\\Desktop\\github\\gofher_refactor\\gofher\\examples\\../gofher\\ebm.py:63: RuntimeWarning: divide by zero encountered in log\n",
      "  x = 2.0*sum([-np.log(p) for p in p_values])\n"
     ]
    },
    {
     "name": "stdout",
     "output_type": "stream",
     "text": [
      "0.0 1.0\n",
      "NGC3521 38 of  136\n"
     ]
    },
    {
     "name": "stderr",
     "output_type": "stream",
     "text": [
      "c:\\Users\\school\\Desktop\\github\\gofher_refactor\\gofher\\examples\\../gofher\\ebm.py:63: RuntimeWarning: divide by zero encountered in log\n",
      "  x = 2.0*sum([-np.log(p) for p in p_values])\n"
     ]
    },
    {
     "name": "stdout",
     "output_type": "stream",
     "text": [
      "0.0 1.3155891015936678e-93\n",
      "NGC3623 39 of  136\n"
     ]
    },
    {
     "name": "stderr",
     "output_type": "stream",
     "text": [
      "c:\\Users\\school\\Desktop\\github\\gofher_refactor\\gofher\\examples\\../gofher\\ebm.py:63: RuntimeWarning: divide by zero encountered in log\n",
      "  x = 2.0*sum([-np.log(p) for p in p_values])\n"
     ]
    },
    {
     "name": "stdout",
     "output_type": "stream",
     "text": [
      "1.0 0.0\n",
      "NGC3627 40 of  136\n",
      "1.0 0.0\n",
      "NGC3646 41 of  136\n",
      "1.0 6.109999178949633e-224\n",
      "NGC3672 42 of  136\n",
      "1.5550840175144074e-209 1.0\n",
      "NGC3675 43 of  136\n",
      "7.46604784163143e-130 9.431586438482586e-101\n",
      "NGC3718 44 of  136\n",
      "1.0 5.56313376161184e-168\n",
      "NGC3815 45 of  136\n",
      "1.0 3.8201706719384445e-217\n",
      "NGC3900 46 of  136\n",
      "7.26714802199161e-77 1.0\n",
      "NGC3949 47 of  136\n",
      "1.9320561452515852e-05 5.165388368994471e-93\n",
      "NGC4062 48 of  136\n"
     ]
    },
    {
     "name": "stderr",
     "output_type": "stream",
     "text": [
      "c:\\Users\\school\\Desktop\\github\\gofher_refactor\\gofher\\examples\\../gofher\\ebm.py:63: RuntimeWarning: divide by zero encountered in log\n",
      "  x = 2.0*sum([-np.log(p) for p in p_values])\n"
     ]
    },
    {
     "name": "stdout",
     "output_type": "stream",
     "text": [
      "0.0 6.204708443154686e-84\n",
      "NGC4088 49 of  136\n",
      "2.9528779327156892e-86 1.975995953983443e-72\n",
      "NGC4258 50 of  136\n"
     ]
    },
    {
     "name": "stderr",
     "output_type": "stream",
     "text": [
      "c:\\Users\\school\\Desktop\\github\\gofher_refactor\\gofher\\examples\\../gofher\\ebm.py:63: RuntimeWarning: divide by zero encountered in log\n",
      "  x = 2.0*sum([-np.log(p) for p in p_values])\n"
     ]
    },
    {
     "name": "stdout",
     "output_type": "stream",
     "text": [
      "0.0 9.87511225221251e-168\n",
      "NGC4293 51 of  136\n",
      "7.63681667798573e-141 1.0\n",
      "NGC4310 52 of  136\n",
      "8.323837203248843e-166 1.0\n",
      "NGC4321 53 of  136\n",
      "0.00621239540341687 0.35607346378230753\n",
      "NGC4414 54 of  136\n"
     ]
    },
    {
     "name": "stderr",
     "output_type": "stream",
     "text": [
      "c:\\Users\\school\\Desktop\\github\\gofher_refactor\\gofher\\examples\\../gofher\\ebm.py:63: RuntimeWarning: divide by zero encountered in log\n",
      "  x = 2.0*sum([-np.log(p) for p in p_values])\n",
      "c:\\Users\\school\\Desktop\\github\\gofher_refactor\\gofher\\gofher_env\\Lib\\site-packages\\numpy\\core\\fromnumeric.py:3464: RuntimeWarning: Mean of empty slice.\n",
      "  return _methods._mean(a, axis=axis, dtype=dtype,\n",
      "c:\\Users\\school\\Desktop\\github\\gofher_refactor\\gofher\\gofher_env\\Lib\\site-packages\\numpy\\core\\_methods.py:192: RuntimeWarning: invalid value encountered in scalar divide\n",
      "  ret = ret.dtype.type(ret / rcount)\n",
      "c:\\Users\\school\\Desktop\\github\\gofher_refactor\\gofher\\gofher_env\\Lib\\site-packages\\numpy\\core\\_methods.py:269: RuntimeWarning: Degrees of freedom <= 0 for slice\n",
      "  ret = _var(a, axis=axis, dtype=dtype, out=out, ddof=ddof,\n",
      "c:\\Users\\school\\Desktop\\github\\gofher_refactor\\gofher\\gofher_env\\Lib\\site-packages\\numpy\\core\\_methods.py:226: RuntimeWarning: invalid value encountered in divide\n",
      "  arrmean = um.true_divide(arrmean, div, out=arrmean,\n",
      "c:\\Users\\school\\Desktop\\github\\gofher_refactor\\gofher\\gofher_env\\Lib\\site-packages\\numpy\\core\\_methods.py:261: RuntimeWarning: invalid value encountered in scalar divide\n",
      "  ret = ret.dtype.type(ret / rcount)\n"
     ]
    },
    {
     "name": "stdout",
     "output_type": "stream",
     "text": [
      "1.0 0.0\n",
      "NGC4424 55 of  136\n",
      "Error fitting sersic, using inital_gofher_parameters from sep\n",
      "1.0 3.874165806723464e-128\n",
      "NGC4450 56 of  136\n",
      "2.4396068447563e-59 1.0\n",
      "NGC4451 57 of  136\n",
      "9.205497113305929e-63 1.0\n",
      "NGC4501 58 of  136\n"
     ]
    },
    {
     "name": "stderr",
     "output_type": "stream",
     "text": [
      "c:\\Users\\school\\Desktop\\github\\gofher_refactor\\gofher\\examples\\../gofher\\ebm.py:63: RuntimeWarning: divide by zero encountered in log\n",
      "  x = 2.0*sum([-np.log(p) for p in p_values])\n"
     ]
    },
    {
     "name": "stdout",
     "output_type": "stream",
     "text": [
      "1.0 0.0\n",
      "NGC4527 59 of  136\n"
     ]
    },
    {
     "name": "stderr",
     "output_type": "stream",
     "text": [
      "c:\\Users\\school\\Desktop\\github\\gofher_refactor\\gofher\\examples\\../gofher\\ebm.py:63: RuntimeWarning: divide by zero encountered in log\n",
      "  x = 2.0*sum([-np.log(p) for p in p_values])\n"
     ]
    },
    {
     "name": "stdout",
     "output_type": "stream",
     "text": [
      "1.0 0.0\n",
      "NGC4569 60 of  136\n",
      "5.960759345598733e-272 4.50566414572527e-135\n",
      "NGC4580 61 of  136\n",
      "2.006636055222221e-230 1.0\n",
      "NGC4625 62 of  136\n",
      "8.443479125384598e-26 1.0\n",
      "NGC4632 63 of  136\n",
      "1.0 1.476670051404129e-261\n",
      "NGC4651 64 of  136\n",
      "8.702321568007518e-34 1.0\n",
      "NGC4666 65 of  136\n"
     ]
    },
    {
     "name": "stderr",
     "output_type": "stream",
     "text": [
      "c:\\Users\\school\\Desktop\\github\\gofher_refactor\\gofher\\examples\\../gofher\\ebm.py:63: RuntimeWarning: divide by zero encountered in log\n",
      "  x = 2.0*sum([-np.log(p) for p in p_values])\n"
     ]
    },
    {
     "name": "stdout",
     "output_type": "stream",
     "text": [
      "0.0 1.0\n",
      "NGC4698 66 of  136\n",
      "2.3790176625853315e-11 1.456449100763325e-29\n",
      "NGC4826 67 of  136\n"
     ]
    },
    {
     "name": "stderr",
     "output_type": "stream",
     "text": [
      "c:\\Users\\school\\Desktop\\github\\gofher_refactor\\gofher\\examples\\../gofher\\ebm.py:63: RuntimeWarning: divide by zero encountered in log\n",
      "  x = 2.0*sum([-np.log(p) for p in p_values])\n"
     ]
    },
    {
     "name": "stdout",
     "output_type": "stream",
     "text": [
      "0.0 0.0\n",
      "NGC5005 68 of  136\n"
     ]
    },
    {
     "name": "stderr",
     "output_type": "stream",
     "text": [
      "c:\\Users\\school\\Desktop\\github\\gofher_refactor\\gofher\\examples\\../gofher\\ebm.py:63: RuntimeWarning: divide by zero encountered in log\n",
      "  x = 2.0*sum([-np.log(p) for p in p_values])\n"
     ]
    },
    {
     "name": "stdout",
     "output_type": "stream",
     "text": [
      "1.0 0.0\n",
      "NGC5033 69 of  136\n"
     ]
    },
    {
     "name": "stderr",
     "output_type": "stream",
     "text": [
      "c:\\Users\\school\\Desktop\\github\\gofher_refactor\\gofher\\examples\\../gofher\\ebm.py:63: RuntimeWarning: divide by zero encountered in log\n",
      "  x = 2.0*sum([-np.log(p) for p in p_values])\n"
     ]
    },
    {
     "name": "stdout",
     "output_type": "stream",
     "text": [
      "0.0 1.0\n",
      "NGC5055 70 of  136\n"
     ]
    },
    {
     "name": "stderr",
     "output_type": "stream",
     "text": [
      "c:\\Users\\school\\Desktop\\github\\gofher_refactor\\gofher\\examples\\../gofher\\ebm.py:63: RuntimeWarning: divide by zero encountered in log\n",
      "  x = 2.0*sum([-np.log(p) for p in p_values])\n"
     ]
    },
    {
     "name": "stdout",
     "output_type": "stream",
     "text": [
      "0.0 1.0\n",
      "NGC5236 71 of  136\n",
      "1.1457611727780743e-61 0.0\n",
      "NGC5248 72 of  136\n",
      "8.440789054614145e-174 1.0\n",
      "NGC5303 73 of  136\n",
      "1.7848205136236444e-69 1.0\n",
      "NGC5395 74 of  136\n",
      "2.4255793908660343e-124 1.0\n",
      "NGC5426 75 of  136\n",
      "1.4003645943160157e-265 1.0\n",
      "NGC5448 76 of  136\n"
     ]
    },
    {
     "name": "stderr",
     "output_type": "stream",
     "text": [
      "c:\\Users\\school\\Desktop\\github\\gofher_refactor\\gofher\\examples\\../gofher\\ebm.py:63: RuntimeWarning: divide by zero encountered in log\n",
      "  x = 2.0*sum([-np.log(p) for p in p_values])\n"
     ]
    },
    {
     "name": "stdout",
     "output_type": "stream",
     "text": [
      "0.0 1.0\n",
      "NGC5635 77 of  136\n",
      "0.0 1.0\n",
      "NGC5678 78 of  136\n",
      "3.728764911923537e-213 1.0\n",
      "NGC5692 79 of  136\n",
      "1.0 1.230669087257729e-165\n",
      "NGC5949 80 of  136\n",
      "1.6468287868442956e-43 1.0\n",
      "NGC5980 81 of  136\n",
      "1.0 4.692554080991144e-224\n",
      "NGC6015 82 of  136\n",
      "1.0 1.9608139600185326e-153\n",
      "NGC6106 83 of  136\n",
      "9.541307539931669e-05 2.6748306231173026e-70\n",
      "NGC613 84 of  136\n",
      "9.562756628175537e-80 5.095804328812814e-23\n",
      "NGC6132 85 of  136\n",
      "1.0 6.046142490230265e-156\n",
      "NGC615 86 of  136\n",
      "1.0 0.0\n",
      "NGC6181 87 of  136\n",
      "2.024962807007438e-181 1.0\n",
      "NGC6186 88 of  136\n",
      "1.0 9.486304954652538e-55\n",
      "NGC6207 89 of  136\n",
      "4.114281301681736e-132 3.504965963315035e-50\n",
      "NGC6394 90 of  136\n",
      "1.0 1.1160137038386003e-67\n",
      "NGC6503 91 of  136\n"
     ]
    },
    {
     "name": "stderr",
     "output_type": "stream",
     "text": [
      "c:\\Users\\school\\Desktop\\github\\gofher_refactor\\gofher\\examples\\../gofher\\ebm.py:63: RuntimeWarning: divide by zero encountered in log\n",
      "  x = 2.0*sum([-np.log(p) for p in p_values])\n"
     ]
    },
    {
     "name": "stdout",
     "output_type": "stream",
     "text": [
      "0.0 1.0\n",
      "NGC6907 92 of  136\n",
      "8.088356322129355e-26 1.0\n",
      "NGC6946 93 of  136\n",
      "1.0 3.807497411943755e-192\n",
      "NGC6951 94 of  136\n",
      "6.324638216918754e-76 1.0\n",
      "NGC6978 95 of  136\n",
      "1.0441423907500922e-162 1.0\n",
      "NGC7311 96 of  136\n",
      "1.3861002526799781e-81 1.0\n",
      "NGC7331 97 of  136\n"
     ]
    },
    {
     "name": "stderr",
     "output_type": "stream",
     "text": [
      "c:\\Users\\school\\Desktop\\github\\gofher_refactor\\gofher\\examples\\../gofher\\ebm.py:63: RuntimeWarning: divide by zero encountered in log\n",
      "  x = 2.0*sum([-np.log(p) for p in p_values])\n"
     ]
    },
    {
     "name": "stdout",
     "output_type": "stream",
     "text": [
      "0.0 3.508167000968776e-45\n",
      "NGC7364 98 of  136\n",
      "0.0 1.0\n",
      "NGC7466 99 of  136\n",
      "1.1345573472009794e-105 1.0\n",
      "NGC7479 100 of  136\n"
     ]
    }
   ],
   "source": [
    "paper_labels = get_paper_dark_side_labels()\n",
    "\n",
    "verbose_header = []\n",
    "verbow_rows = []\n",
    "\n",
    "ebm_header = []\n",
    "ebm_rows = []\n",
    "\n",
    "i = 1\n",
    "\n",
    "for name in get_galaxies():\n",
    "    if name not in paper_labels: continue\n",
    "\n",
    "    print(name, i,\"of\",len(get_galaxies()))\n",
    "    \n",
    "    try:\n",
    "        paper_label = paper_labels[name]\n",
    "        gal = run_gofher(name,get_fits_path,BANDS_IN_ORDER,REF_BANDS_IN_ORDER, paper_label)\n",
    "\n",
    "        if generate_verbose_csv:\n",
    "            (header,row) = gal.get_verbose_csv_header_and_row(BANDS_IN_ORDER,paper_label)\n",
    "            if len(verbose_header) == 0: verbose_header = header\n",
    "            verbow_rows.append(row)\n",
    "\n",
    "        if generate_ebm_csv:\n",
    "            (header,row) = gal.get_ebm_csv_header_and_row(BANDS_IN_ORDER, paper_label)\n",
    "            if len(ebm_header) == 0: ebm_header = header\n",
    "            ebm_rows.append(row)\n",
    "\n",
    "        if generate_visualization:\n",
    "            sub_folder = os.path.join(path_to_output,figure_to_run_on)\n",
    "            check_if_folder_exists_and_create(sub_folder)\n",
    "            save_path = os.path.join(sub_folder,\"{}.png\".format(name))\n",
    "\n",
    "            color_image = color = mpimg.imread(get_color_image_path(name))\n",
    "            visualize(gal,color_image,BANDS_IN_ORDER,paper_label,save_path=save_path)\n",
    "    except Exception as e:\n",
    "        print(e)\n",
    "    i += 1\n",
    "\n",
    "if generate_verbose_csv:\n",
    "    verbose_csv_path = os.path.join(path_to_output,\"{}.csv\".format(figure_to_run_on))\n",
    "    write_csv(verbose_csv_path,ebm_header,ebm_rows)\n",
    "\n",
    "if generate_ebm_csv:\n",
    "    ebm_csv_path = os.path.join(path_to_output,\"{}_ebm.csv\".format(figure_to_run_on))\n",
    "    write_csv(ebm_csv_path,ebm_header,ebm_rows)"
   ]
  },
  {
   "cell_type": "code",
   "execution_count": null,
   "metadata": {},
   "outputs": [],
   "source": []
  }
 ],
 "metadata": {
  "kernelspec": {
   "display_name": "gofher_env",
   "language": "python",
   "name": "python3"
  },
  "language_info": {
   "codemirror_mode": {
    "name": "ipython",
    "version": 3
   },
   "file_extension": ".py",
   "mimetype": "text/x-python",
   "name": "python",
   "nbconvert_exporter": "python",
   "pygments_lexer": "ipython3",
   "version": "3.11.3"
  }
 },
 "nbformat": 4,
 "nbformat_minor": 2
}
