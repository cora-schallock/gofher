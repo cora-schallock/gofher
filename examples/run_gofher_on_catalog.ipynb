{
 "cells": [
  {
   "cell_type": "code",
   "execution_count": 1,
   "metadata": {},
   "outputs": [],
   "source": [
    "import sys\n",
    "sys.path.insert(0, '../gofher')\n",
    "\n",
    "import os\n",
    "import matplotlib.image as mpimg\n",
    "\n",
    "from gofher import run_gofher\n",
    "from visualize import visualize\n",
    "from file_helper import write_csv,check_if_folder_exists_and_create\n",
    "from spin_parity import read_spin_parity_galaxies_label_from_csv, standardize_galaxy_name"
   ]
  },
  {
   "cell_type": "code",
   "execution_count": 2,
   "metadata": {},
   "outputs": [],
   "source": [
    "survery_to_use = \"panstarrs\"\n",
    "\n",
    "BANDS_IN_ORDER = ['g','r','i','z','y'] #Important: Must stay in order of BLUEST to REDDEST Waveband (Editting this will cause gofher to no longer correctly evaluate redder side of galaxy)\n",
    "REF_BANDS_IN_ORDER = ['i','z','y','r','g'] #The prefernce each waveband being choosen as refernce band from highest priority to lowest priority"
   ]
  },
  {
   "cell_type": "code",
   "execution_count": 3,
   "metadata": {},
   "outputs": [],
   "source": [
    "figure_to_run_on = \"figure11\"\n",
    "bin_size = 4 #None or a positive integer"
   ]
  },
  {
   "cell_type": "code",
   "execution_count": 4,
   "metadata": {},
   "outputs": [],
   "source": [
    "generate_verbose_csv = True\n",
    "generate_ebm_csv = True\n",
    "generate_params_csv = True\n",
    "generate_visualization = True\n",
    "save_visualization = True"
   ]
  },
  {
   "cell_type": "code",
   "execution_count": 5,
   "metadata": {},
   "outputs": [],
   "source": [
    "#Important: Make sure you update these values:\n",
    "path_to_catalog_data = \"..\\\\..\\\\spin-parity-catalog-data\"\n",
    "path_to_output = \"..\\\\..\\\\gofher-data\\\\panstarrs\\\\source_extraction\""
   ]
  },
  {
   "cell_type": "code",
   "execution_count": 6,
   "metadata": {},
   "outputs": [],
   "source": [
    "def get_fits_path(name,band):\n",
    "    \"\"\"the file path of where existing fits files can be found\"\"\"\n",
    "    return os.path.join(path_to_catalog_data,survery_to_use,figure_to_run_on,name,\"{}_{}.fits\".format(name,band))\n",
    "\n",
    "def get_color_image_path(name):\n",
    "    return os.path.join(path_to_catalog_data,survery_to_use,figure_to_run_on,name,\"{}_color.jfif\".format(name))\n",
    "\n",
    "def get_path_to_catalog_csv():\n",
    "    return os.path.join(path_to_catalog_data,\"catalog\",\"{}.csv\".format(figure_to_run_on))"
   ]
  },
  {
   "cell_type": "code",
   "execution_count": 7,
   "metadata": {},
   "outputs": [],
   "source": [
    "def get_paper_dark_side_labels():\n",
    "    return read_spin_parity_galaxies_label_from_csv(get_path_to_catalog_csv())\n",
    "\n",
    "def get_galaxies():\n",
    "    return os.listdir(os.path.join(path_to_catalog_data,survery_to_use,figure_to_run_on))"
   ]
  },
  {
   "cell_type": "code",
   "execution_count": 8,
   "metadata": {},
   "outputs": [],
   "source": [
    "def run_gofher_on_catalog():\n",
    "    paper_labels = get_paper_dark_side_labels()\n",
    "\n",
    "    verbose_header = []\n",
    "    verbose_rows = []\n",
    "\n",
    "    ebm_header = []\n",
    "    ebm_rows = []\n",
    "\n",
    "    params_header = []\n",
    "    params_rows = []\n",
    "\n",
    "    i = 1\n",
    "\n",
    "\n",
    "    for name in get_galaxies():\n",
    "\n",
    "        if standardize_galaxy_name(name) not in paper_labels:\n",
    "            print(\"skippimg\",name)\n",
    "            continue\n",
    "\n",
    "        print(name, i,\"of\",len(get_galaxies()))\n",
    "\n",
    "        try:\n",
    "            paper_label = paper_labels[standardize_galaxy_name(name)]\n",
    "            gal = run_gofher(name,get_fits_path,BANDS_IN_ORDER,REF_BANDS_IN_ORDER, paper_label,s=bin_size,bin_prior_to_param_fitting=True)\n",
    "\n",
    "            if generate_verbose_csv:\n",
    "                (header,row) = gal.get_verbose_csv_header_and_row(BANDS_IN_ORDER,paper_label)\n",
    "                if len(verbose_header) == 0: verbose_header = header\n",
    "                verbose_rows.append(row)\n",
    "\n",
    "            if generate_ebm_csv:\n",
    "                (header,row) = gal.get_ebm_csv_header_and_row(BANDS_IN_ORDER, paper_label)\n",
    "                if len(ebm_header) == 0: ebm_header = header\n",
    "                ebm_rows.append(row)\n",
    "\n",
    "            if generate_params_csv:\n",
    "                (header,row) = gal.get_params_csv_header_and_row()\n",
    "                if len(params_header) == 0: params_header = header\n",
    "                params_rows.append(row)\n",
    "\n",
    "            if generate_visualization:\n",
    "                save_path = ''\n",
    "                \n",
    "                if save_visualization:\n",
    "                    sub_folder = os.path.join(path_to_output,figure_to_run_on)\n",
    "                    check_if_folder_exists_and_create(sub_folder)\n",
    "                    save_path = os.path.join(sub_folder,\"{}.png\".format(name))\n",
    "\n",
    "                color_image = color = mpimg.imread(get_color_image_path(name))\n",
    "                visualize(gal,color_image,BANDS_IN_ORDER,paper_label,save_path=save_path)\n",
    "        except Exception as e:\n",
    "            print(e)\n",
    "        i += 1\n",
    "\n",
    "    if generate_verbose_csv:\n",
    "        verbose_csv_path = os.path.join(path_to_output,\"{}_verbose.csv\".format(figure_to_run_on))\n",
    "        write_csv(verbose_csv_path,verbose_header,verbose_rows)\n",
    "\n",
    "    if generate_ebm_csv:\n",
    "        ebm_csv_path = os.path.join(path_to_output,\"{}_ebm.csv\".format(figure_to_run_on))\n",
    "        write_csv(ebm_csv_path,ebm_header,ebm_rows)\n",
    "\n",
    "    if generate_params_csv:\n",
    "        params_csv_path = os.path.join(path_to_output,\"{}_params.csv\".format(figure_to_run_on))\n",
    "        write_csv(params_csv_path,params_header,params_rows)"
   ]
  },
  {
   "cell_type": "code",
   "execution_count": 9,
   "metadata": {},
   "outputs": [
    {
     "name": "stdout",
     "output_type": "stream",
     "text": [
      "IC2247 1 of 25\n",
      "IC540 2 of 25\n",
      "IC944 3 of 25\n",
      "MCG-02-02-040 4 of 25\n",
      "MCG-02-03-015 5 of 25\n",
      "NGC1542 6 of 25\n",
      "NGC3067 7 of 25\n",
      "NGC3079 8 of 25\n",
      "NGC3169 9 of 25\n",
      "NGC3495 10 of 25\n",
      "NGC3626 11 of 25\n",
      "NGC4517 12 of 25\n",
      "NGC4605 13 of 25\n",
      "NGC4772 14 of 25\n",
      "NGC6314 15 of 25\n",
      "NGC681 16 of 25\n",
      "UGC10205 17 of 25\n",
      "UGC10297 18 of 25\n",
      "UGC3107 19 of 25\n",
      "UGC5111 20 of 25\n",
      "UGC5498 21 of 25\n",
      "UGC6036 22 of 25\n",
      "UGC8267 23 of 25\n",
      "UGC8778 24 of 25\n",
      "UGC9665 25 of 25\n"
     ]
    }
   ],
   "source": [
    "if not os.path.exists(path_to_catalog_data):\n",
    "    raise ValueError(\"The path to the catalog is not found {} - make sure you update path_to_catalog_data\".format(path_to_catalog_data))\n",
    "\n",
    "if not os.path.exists(path_to_output):\n",
    "    raise ValueError(\"The path output is not found {} - make sure you update ppath_to_output\".format(path_to_catalog_data))\n",
    "\n",
    "\n",
    "run_gofher_on_catalog()"
   ]
  },
  {
   "cell_type": "code",
   "execution_count": null,
   "metadata": {},
   "outputs": [],
   "source": []
  }
 ],
 "metadata": {
  "kernelspec": {
   "display_name": "gofher_env",
   "language": "python",
   "name": "python3"
  },
  "language_info": {
   "codemirror_mode": {
    "name": "ipython",
    "version": 3
   },
   "file_extension": ".py",
   "mimetype": "text/x-python",
   "name": "python",
   "nbconvert_exporter": "python",
   "pygments_lexer": "ipython3",
   "version": "3.11.3"
  }
 },
 "nbformat": 4,
 "nbformat_minor": 2
}
