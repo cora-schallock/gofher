{
 "cells": [
  {
   "cell_type": "code",
   "execution_count": 15,
   "metadata": {},
   "outputs": [],
   "source": [
    "import sys\n",
    "sys.path.insert(0, '../gofher')\n",
    "\n",
    "import os\n",
    "import matplotlib.image as mpimg\n",
    "\n",
    "from gofher import run_gofher\n",
    "from visualize import visualize\n",
    "from spin_parity import read_spin_parity_galaxies_label_from_csv"
   ]
  },
  {
   "cell_type": "code",
   "execution_count": 16,
   "metadata": {},
   "outputs": [],
   "source": [
    "survery_to_use = \"panstarrs\"\n",
    "\n",
    "BANDS_IN_ORDER = ['r','i','z','y']\n",
    "REF_BANDS_IN_ORDER = ['i','z','y','r']"
   ]
  },
  {
   "cell_type": "code",
   "execution_count": 17,
   "metadata": {},
   "outputs": [],
   "source": [
    "figure_to_run_on = \"figure10\""
   ]
  },
  {
   "cell_type": "code",
   "execution_count": 18,
   "metadata": {},
   "outputs": [],
   "source": [
    "path_to_catalog_data = \"..\\\\..\\\\..\\\\spin-parity-catalog-data\"\n",
    "path_to_output = \"..\\\\..\\\\..\\\\..\\\\\""
   ]
  },
  {
   "cell_type": "code",
   "execution_count": 19,
   "metadata": {},
   "outputs": [],
   "source": [
    "def get_fits_path(name,band):\n",
    "    \"\"\"the file path of where existing fits files can be found\"\"\"\n",
    "    return os.path.join(path_to_catalog_data,survery_to_use,figure_to_run_on,name,\"{}_{}.fits\".format(name,band))\n",
    "\n",
    "def get_color_image_path(name):\n",
    "    return os.path.join(path_to_catalog_data,survery_to_use,figure_to_run_on,name,\"{}_color.jfif\".format(name))\n",
    "\n",
    "def get_path_to_catalog_csv():\n",
    "    return os.path.join(path_to_catalog_data,\"catalog\",\"{}.csv\".format(figure_to_run_on))"
   ]
  },
  {
   "cell_type": "code",
   "execution_count": 20,
   "metadata": {},
   "outputs": [],
   "source": [
    "def get_paper_dark_side_labels():\n",
    "    return read_spin_parity_galaxies_label_from_csv(get_path_to_catalog_csv())\n",
    "\n",
    "def get_galaxies():\n",
    "    return os.listdir(os.path.join(path_to_catalog_data,survery_to_use,figure_to_run_on))"
   ]
  },
  {
   "cell_type": "code",
   "execution_count": 21,
   "metadata": {},
   "outputs": [
    {
     "name": "stdout",
     "output_type": "stream",
     "text": [
      "['.ipynb_checkpoints', '03_17_2023_research', '03_17_2023_research_not_seperate', '10.21105.joss.00058.pdf', '1237648702966988820_g.fits', '1237664094507237473.fits', '1706.07717.pdf', '1806.10630.pdf', '1x', '2022-Fall-Cora-Schallock-GAMBIT.pdf', '2022_fall', '2023_spring_end_of_quarter', '2024_winter', '2202.13493.pdf', '3.PNG', '3950312.pdf', '8_6_2_solution.PNG', 'adv_invite', 'adv_lecture', 'adv_payment.pdf', 'analyze_ks_d_geo.py', 'anthony_error.PNG', 'ASPlectures_Galaxies_Virtual_Sep2020_Part1_v2.pdf', 'AvisFV 3.0.lnk', 'awkcel_out.tar.gz', 'back_to_the_drawing_board', 'Baggett_1998_AJ_116_1626.pdf', 'berkley_dust_lecture_1.pdf', 'berkley_dust_lecture_2.pdf', 'blur_image.py', 'byun.pdf', 'Capture.PNG', 'Capture_0.PNG', 'center_test', 'check_for_missing_spin_parity_catalog_galaxies.py', 'check_it.fits', 'code_to_upload', 'color_traveling_salesmen.pdf', 'command_for_anthony.txt', 'comparison', 'complete_blood_work_11_08_2022.pdf', 'comp_metabolic_work_11_08_2022.pdf', 'cool.PNG', 'Critical_KS.pdf', 'cross_id', 'cross_id_align', 'cs125', 'cs_121_2023', 'cs_274a_alll_hw.zip', 'curtis_1918.pdf', 'darren_magnificent', 'desktop.ini', 'diff_output', 'diff_test', 'diff_test3', 'disparate_side', 'donald_bren_hall.png', 'donut_menu.jpg', 'donut_menu_pdf.pdf', 'earth.jpg', 'ed_1.PNG', 'FalconBarroso_etal_2016.pdf', 'fetherolf 2023.pdf', 'for_github', 'for_presentation_02_16_2024.txt', 'for_wayne_03_07_2024', 'FqOTQN9aYAANGzI.htm', 'galaxy.fits', 'GalaxyRotation.jpg', 'gambit_output_align', 'gambit_output_sep', 'gibbi_output_align', 'github', 'gofher_output', 'gofher_output_refactor', 'gofher_test_1', 'google_forum.txt', 'graph_test.png', 'group_7.pdf', 'hist_test', 'hist_test_sersic', 'hist_test_sersic_fixed_theta', 'IC1683_i', 'iCloud Photos', 'iCloud Photos (2).zip', 'iCloud Photos.zip', 'ics6d_midterm1.ipynb', 'ics_6d_final_answer_check.py', 'IMAGE_ALGORITHM.pdf', 'image_restore.pdf', 'in_person_lecture.png', 'jwst_quintent.jpg', 'jypterlab_help.txt', 'jypterlab_issue.PNG', 'kmeans_fit_idea.ipynb', 'lab0.py', 'lecture-invite.png', 'link_for_ember.txt', 'm101.jpg', 'master_survey.pdf', 'Master’s_Final_Degree_Paperwork_(Comp_Exam)_.pdf', 'me.jpg', 'me_2023.jpg', 'me_2023_smaller.PNG', 'move_galaxies_for_sparcfire_run.py', 'Nataf_2013_ApJ_769_88.pdf', 'nayeri', 'New folder', 'ngc1.PNG', 'ngc1084_test.PNG', 'ngc1_radial.PNG', 'ngc1_sparcfire.csv', 'NGC2207+IC2163.jpg', 'ngc278.PNG', 'ngc3227_funky_sobel.PNG', 'ngc3367_galaxy.csv', 'ngc3368_classification.PNG', 'ngc3368_segmentation.PNG', 'NGC615_g.fits', 'NGC615_i.fits', 'NGC615_r.fits', 'NGC615_y.fits', 'NGC615_z.fits', 'NGC772.PNG', 'ngc_1667.png', 'noise_test.fits', 'opean_ai.txt', 'openlab', 'open_ai_1.PNG', 'open_ai_2.PNG', 'open_ai_3.PNG', 'open_ai_code.ipynb', 'open_ai_results.PNG', 'output_example.png', 'overpayment.pdf', 'Pandas_Cheat_Sheet.pdf', 'panstarrs.pdf', 'panstarrs.png', 'PhD_form_I_for_Cora_Schallock.pdf', 'physics_courses_matt.txt', 'pixel_threshold.ipynb', 'Please_DocuSign_Teaching_Assistant_Written_N.pdf', 'print_version_Iye_2019_ApJ_886_133.pdf', 'p_act', 'rae_output', 'rae_output_sdss', 'rae_ping', 'random_tests', 'rebin.py', 'rebin_test.fits', 'recent_paper_with_angular.pdf', 'reddening_of_bulge.pdf', 'research_fall_2022_writeup.zip', 'reset_jypterlab.sh', 'residule_denoising_paper.pdf', 'resize_fits.py', 'run_shift_gal', 'sal_instructions', 'saml_error.PNG', 'security_risks.txt', 'sep_bulge_test_5_output.fits', 'sep_bulge_test_5_output_2.fits', 'sep_bulge_test_5_output_3.fits', 'sep_bulge_test_5_output_4.fits', 'sersic', 'sersic_gambit', 'sersic_test', 'shipping_and_handeling', 'sigmoid_test_with.fits', 'sigmoid_test_without.fits', 'size_ic1199.PNG', 'size_ic467.PNG', 'slipher.pdf', 'sobel.jpg', 'sobel1.jpg', 'sobel_t.fits', 'sobel_test.ipynb', 'sparcfire_00625', 'sparcfire_0125', 'sparcfire_025', 'sparcfire_05', 'spidergwen.jpg', 'spin_pairty_sdss', 'spin_parity_panstarrs', 'squares.fits', 'squares2.fits', 'squares3.fits', 'squares_norm.fits', 'squares_normed.fits', 'Star–Galaxy Image Separation with Computationally Efficient Gaussian Process.pdf', 'switch+mgc1614.PNG', 'table3_graph.txt', 'table3_mask.txt', 'table_3_issues.txt', 'task_for_likai', 'task_for_likai.zip', 'test.PNG', 'test_output_csv.csv', 'test_p.png', 'test_test.fits', 'their_stupid_form.pdf', 'Tilt Criteria and Direction of Rotation of Spiral Galaxies.pdf', 'tire_appoitment_10_26_2022.pdf', 'to get rae working.txt', 'to_email.txt', 'to_norm_test', 'to_norm_test3', 'to_send_04_03_2024.txt', 'uci-bren.png', 'uci-logo-3.png', 'uci-logo.png', 'uci-logo2.jpg', 'uci_google_drive_backup', 'Untitled Folder', 'Untitled.ipynb', 'Untitled3.ipynb', 'url_data.PNG', 'vaccine.PNG', 'wtf_i_did.txt', 'Your_Renewal_Lease_Agreement_is_ready_for_sig.pdf', 'Zoom.lnk', 'zoom_invite.png']\n",
      "1.8174657643651955e-147 1.0\n",
      "IC750 SE SE 1.8174657643651955e-147\n"
     ]
    }
   ],
   "source": [
    "paper_labels = get_paper_dark_side_labels()\n",
    "\n",
    "print(os.listdir(path_to_output))\n",
    "\n",
    "for name in get_galaxies():\n",
    "    if name not in paper_labels: continue\n",
    "    \n",
    "    paper_label = paper_labels[name]\n",
    "    gal = run_gofher(name,get_fits_path,['g','r','i','z','y'],['i','z','y','r'], paper_label)\n",
    "    (ebm_label, ebm_p) = gal.run_ebm(['r','i','z','y'])\n",
    "    print(name,paper_label,ebm_label,ebm_p)\n",
    "\n",
    "    #(header,row) = gal.get_verbose_csv_header_and_row(['r','i','z','y'],paper_label)\n",
    "    #color_image = color = mpimg.imread(get_color_image_path(name))\n",
    "    #visualize(gal,color_image,['r','i','z','y'],paper_label)\n",
    "    \n",
    "    break\n"
   ]
  },
  {
   "cell_type": "code",
   "execution_count": null,
   "metadata": {},
   "outputs": [],
   "source": []
  }
 ],
 "metadata": {
  "kernelspec": {
   "display_name": "gofher_env",
   "language": "python",
   "name": "python3"
  },
  "language_info": {
   "codemirror_mode": {
    "name": "ipython",
    "version": 3
   },
   "file_extension": ".py",
   "mimetype": "text/x-python",
   "name": "python",
   "nbconvert_exporter": "python",
   "pygments_lexer": "ipython3",
   "version": "3.11.3"
  }
 },
 "nbformat": 4,
 "nbformat_minor": 2
}
