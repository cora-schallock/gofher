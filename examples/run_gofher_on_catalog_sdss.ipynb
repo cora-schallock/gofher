{
 "cells": [
  {
   "cell_type": "code",
   "execution_count": 95,
   "metadata": {},
   "outputs": [],
   "source": [
    "import sys\n",
    "sys.path.insert(0, '../gofher')\n",
    "\n",
    "import os\n",
    "import matplotlib.image as mpimg\n",
    "import numpy as np\n",
    "\n",
    "from gofher import run_gofher, run_gofher_with_parameters\n",
    "from visualize import visualize\n",
    "from sparcfire import read_sparcfire_galaxy_csv, get_ref_band_and_gofher_params\n",
    "from file_helper import write_csv,check_if_folder_exists_and_create\n",
    "from spin_parity import read_spin_parity_galaxies_label_from_csv, standardize_galaxy_name"
   ]
  },
  {
   "cell_type": "code",
   "execution_count": 96,
   "metadata": {},
   "outputs": [],
   "source": [
    "survery_to_use = \"sdss\"\n",
    "\n",
    "BANDS_IN_ORDER = ['g','r','i','z'] #Important: Must stay in order of BLUEST to REDDEST Waveband (Editting this will cause gofher to no longer correctly evaluate redder side of galaxy)\n",
    "REF_BANDS_IN_ORDER = ['r','i','z','g'] #The prefernce each waveband being choosen as refernce band from highest priority to lowest priority"
   ]
  },
  {
   "cell_type": "code",
   "execution_count": 97,
   "metadata": {},
   "outputs": [],
   "source": [
    "figure_to_run_on = \"figure11\""
   ]
  },
  {
   "cell_type": "code",
   "execution_count": 98,
   "metadata": {},
   "outputs": [],
   "source": [
    "run_type = \"fixed\" #[\"inital\",\"fixed-center\",\"fixed\",\"source_extraction\"]\n",
    "bulge_disk_f = 0.125\n",
    "\n",
    "substring = run_type\n",
    "if run_type != \"\": substring += \"_{}\".format(str(bulge_disk_f).replace(\".\",\"_\"))"
   ]
  },
  {
   "cell_type": "code",
   "execution_count": 99,
   "metadata": {},
   "outputs": [],
   "source": [
    "generate_verbose_csv = True\n",
    "generate_ebm_csv = False\n",
    "\n",
    "generate_visualization = True\n",
    "save_visualization = True"
   ]
  },
  {
   "cell_type": "code",
   "execution_count": 100,
   "metadata": {},
   "outputs": [],
   "source": [
    "#Important: Make sure you update these values:\n",
    "path_to_catalog_data = \"..\\\\..\\\\spin-parity-catalog-data\"\n",
    "path_to_output = \"..\\\\..\\\\gofher-data\\\\{}\\\\{}\".format(survery_to_use,substring)"
   ]
  },
  {
   "cell_type": "code",
   "execution_count": 101,
   "metadata": {},
   "outputs": [],
   "source": [
    "def get_fits_path(name,band):\n",
    "    \"\"\"the file path of where existing fits files can be found\"\"\"\n",
    "    return os.path.join(path_to_catalog_data,survery_to_use,figure_to_run_on,name,\"{}_{}.fits\".format(name,band))\n",
    "\n",
    "def get_color_image_path(name):\n",
    "    return os.path.join(path_to_catalog_data,survery_to_use,figure_to_run_on,name,\"{}_color.png\".format(name))\n",
    "\n",
    "def get_path_to_catalog_csv():\n",
    "    return os.path.join(path_to_catalog_data,\"catalog\",\"{}.csv\".format(figure_to_run_on))"
   ]
  },
  {
   "cell_type": "code",
   "execution_count": 102,
   "metadata": {},
   "outputs": [],
   "source": [
    "def get_paper_dark_side_labels():\n",
    "    return read_spin_parity_galaxies_label_from_csv(get_path_to_catalog_csv())\n",
    "\n",
    "def get_galaxies():\n",
    "    return os.listdir(os.path.join(path_to_catalog_data,survery_to_use,figure_to_run_on))\n",
    "\n",
    "def get_sparcfire_path(): #temp\n",
    "    table_dict = {\"figure8\":\"2\",\"figure9\":\"3\",\"figure10\":\"4\",\"figure11\":\"5\"}\n",
    "    pa_key = table_dict.get(figure_to_run_on,\"\")\n",
    "    if pa_key == \"\": raise ValueError(\"Invlid figure to run on\")\n",
    "\n",
    "    return \"C:\\\\Users\\\\school\\\\Desktop\\\\cross_id\\\\sdss_mosaic_construction\\\\SpArcFiRe_output\\\\table{}\\\\G.out\\\\galaxy.csv\".format(pa_key)"
   ]
  },
  {
   "cell_type": "code",
   "execution_count": 103,
   "metadata": {},
   "outputs": [],
   "source": [
    "def run_gofher_on_catalog():\n",
    "    paper_labels = get_paper_dark_side_labels()\n",
    "\n",
    "    if run_type != \"\":\n",
    "        sparcfire_gals = read_sparcfire_galaxy_csv(get_sparcfire_path())\n",
    "\n",
    "    verbose_header = []\n",
    "    verbose_rows = []\n",
    "\n",
    "    ebm_header = []\n",
    "    ebm_rows = []\n",
    "\n",
    "    i = 1\n",
    "\n",
    "    for name in get_galaxies():\n",
    "\n",
    "        if standardize_galaxy_name(name) not in paper_labels:\n",
    "            print(\"skippimg\",name)\n",
    "            continue\n",
    "\n",
    "        print(name, i,\"of\",len(get_galaxies()))\n",
    "\n",
    "        if run_type != \"\" and name not in sparcfire_gals:\n",
    "            print(\"skipping\")\n",
    "            continue\n",
    "\n",
    "        try:\n",
    "            paper_label = paper_labels[standardize_galaxy_name(name)]\n",
    "\n",
    "            if run_type == \"source_extraction\":\n",
    "                gal = run_gofher(name,get_fits_path,BANDS_IN_ORDER,REF_BANDS_IN_ORDER, paper_label)\n",
    "            else:\n",
    "                ref_band, inital_gofher_params = get_ref_band_and_gofher_params(sparcfire_gals[name],REF_BANDS_IN_ORDER,bulge_disk_f)\n",
    "                gal = run_gofher_with_parameters(name,get_fits_path,BANDS_IN_ORDER,ref_band,inital_gofher_params,paper_label=paper_label,mode=run_type)\n",
    "\n",
    "\n",
    "            if generate_verbose_csv:\n",
    "                (header,row) = gal.get_verbose_csv_header_and_row(BANDS_IN_ORDER,paper_label)\n",
    "                if len(verbose_header) == 0: verbose_header = header\n",
    "                verbose_rows.append(row)\n",
    "\n",
    "            if generate_ebm_csv:\n",
    "                (header,row) = gal.get_ebm_csv_header_and_row(BANDS_IN_ORDER, paper_label)\n",
    "                if len(ebm_header) == 0: ebm_header = header\n",
    "                ebm_rows.append(row)\n",
    "\n",
    "            if generate_visualization:\n",
    "                save_path = ''\n",
    "                \n",
    "                if save_visualization:\n",
    "                    sub_folder = os.path.join(path_to_output,figure_to_run_on)\n",
    "                    check_if_folder_exists_and_create(sub_folder)\n",
    "                    save_path = os.path.join(sub_folder,\"{}.png\".format(name))\n",
    "\n",
    "                color_image = mpimg.imread(get_color_image_path(name))\n",
    "                color_image = np.flipud(color_image) #flip the image left to right to fix orientation\n",
    "                visualize(gal,color_image,BANDS_IN_ORDER,paper_label,save_path=save_path)\n",
    "        except Exception as e:\n",
    "            print(e)\n",
    "        i += 1\n",
    "\n",
    "    if generate_verbose_csv:\n",
    "        verbose_csv_path = os.path.join(path_to_output,\"{}_verbose.csv\".format(figure_to_run_on))\n",
    "        write_csv(verbose_csv_path,verbose_header,verbose_rows)\n",
    "\n",
    "    if generate_ebm_csv:\n",
    "        ebm_csv_path = os.path.join(path_to_output,\"{}_ebm.csv\".format(figure_to_run_on))\n",
    "        write_csv(ebm_csv_path,ebm_header,ebm_rows)"
   ]
  },
  {
   "cell_type": "code",
   "execution_count": 104,
   "metadata": {},
   "outputs": [
    {
     "name": "stdout",
     "output_type": "stream",
     "text": [
      "IC2247 1 of 25\n",
      "IC540 2 of 25\n",
      "IC944 3 of 25\n",
      "MCG-02-02-040 4 of 25\n",
      "skipping\n",
      "MCG-02-03-015 4 of 25\n",
      "skipping\n",
      "NGC1542 4 of 25\n",
      "NGC3067 5 of 25\n",
      "NGC3079 6 of 25\n",
      "NGC3169 7 of 25\n",
      "NGC3495 8 of 25\n",
      "NGC3626 9 of 25\n",
      "NGC4517 10 of 25\n",
      "zero-size array to reduction operation minimum which has no identity\n",
      "NGC4605 11 of 25\n",
      "NGC4772 12 of 25\n",
      "NGC6314 13 of 25\n",
      "NGC681 14 of 25\n",
      "UGC10205 15 of 25\n",
      "UGC10297 16 of 25\n",
      "UGC3107 17 of 25\n",
      "UGC5111 18 of 25\n",
      "UGC5498 19 of 25\n",
      "UGC6036 20 of 25\n",
      "UGC8267 21 of 25\n",
      "UGC8778 22 of 25\n",
      "UGC9665 23 of 25\n"
     ]
    }
   ],
   "source": [
    "if not os.path.exists(path_to_catalog_data):\n",
    "    raise ValueError(\"The path to the catalog is not found {} - make sure you update path_to_catalog_data\".format(path_to_catalog_data))\n",
    "\n",
    "if not os.path.exists(path_to_output):\n",
    "    make_ouput_folder_if_not_exists = True\n",
    "\n",
    "    if not make_ouput_folder_if_not_exists:\n",
    "        raise ValueError(\"The path output is not found {} - make sure you update path_to_output\".format(path_to_output))\n",
    "    os.makedirs(path_to_output)\n",
    "\n",
    "\n",
    "run_gofher_on_catalog()"
   ]
  },
  {
   "cell_type": "code",
   "execution_count": null,
   "metadata": {},
   "outputs": [],
   "source": []
  }
 ],
 "metadata": {
  "kernelspec": {
   "display_name": "gofher_env",
   "language": "python",
   "name": "python3"
  },
  "language_info": {
   "codemirror_mode": {
    "name": "ipython",
    "version": 3
   },
   "file_extension": ".py",
   "mimetype": "text/x-python",
   "name": "python",
   "nbconvert_exporter": "python",
   "pygments_lexer": "ipython3",
   "version": "3.11.3"
  }
 },
 "nbformat": 4,
 "nbformat_minor": 2
}
