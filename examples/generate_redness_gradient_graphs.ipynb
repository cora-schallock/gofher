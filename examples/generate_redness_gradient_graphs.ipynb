{
 "cells": [
  {
   "cell_type": "markdown",
   "id": "d8512926",
   "metadata": {},
   "source": [
    "This script is used to generate the blue-to-red light gradeint direction vs. light/dark side, see Figure 4 and Figure 5 of Schallock & Hayes 2024\n",
    "* x axis [-1,1] where values are distance-from-center/semi-minor-len. Positive numbers refer to dark sides per Iye. et al. 2019 and Negative number refer to 'bright side' (opposite of dark side).\n",
    "* y axis [0,1] where 0 is the pixel of reddest value in difference image, 1 is the pixel of bluest value in difference image\n",
    "* Only includes pixels within 45 degrees of minor axis\n",
    "* Excludes trendline whose fitting likely failed (has min(y) <= -0.5 or max(y) >= 1.5), as well as cases where gofher label and spin parity labels are orthogonal."
   ]
  },
  {
   "cell_type": "code",
   "execution_count": 82,
   "id": "4b836a02",
   "metadata": {},
   "outputs": [],
   "source": [
    "import os\n",
    "\n",
    "import sys\n",
    "sys.path.insert(0, '../gofher')\n",
    "\n",
    "import numpy as np\n",
    "import matplotlib.pyplot as plt\n",
    "import math\n",
    "from collections import defaultdict\n",
    "\n",
    "from gofher import run_gofher\n",
    "from matrix import create_dist_matrix, create_centered_mesh_grid, create_minor_axis_angle_matrix\n",
    "from spin_parity import read_spin_parity_galaxies_label_from_csv, standardize_galaxy_name, score_label\n"
   ]
  },
  {
   "cell_type": "code",
   "execution_count": 83,
   "id": "dc919f0b",
   "metadata": {},
   "outputs": [],
   "source": [
    "survery_to_use = \"panstarrs\"\n",
    "\n",
    "BANDS_IN_ORDER = ['g','r','i','z','y'] #Important: Must stay in order of BLUEST to REDDEST Waveband (Editting this will cause gofher to no longer correctly evaluate redder side of galaxy)\n",
    "REF_BANDS_IN_ORDER = ['i','z','y','r','g'] #The prefernce each waveband being choosen as refernce band from highest priority to lowest priority"
   ]
  },
  {
   "cell_type": "code",
   "execution_count": 84,
   "id": "cb624e51",
   "metadata": {},
   "outputs": [],
   "source": [
    "#for formatting mnras paper: source: https://walmsley.dev/posts/typesetting-mnras-figures\n",
    "\n",
    "SMALL_SIZE = 9\n",
    "MEDIUM_SIZE = 9\n",
    "BIGGER_SIZE = 9\n",
    "\n",
    "plt.rc('font', size=SMALL_SIZE)          # controls default text sizes\n",
    "plt.rc('axes', titlesize=SMALL_SIZE)     # fontsize of the axes title\n",
    "plt.rc('axes', labelsize=MEDIUM_SIZE)    # fontsize of the x and y labels\n",
    "plt.rc('xtick', labelsize=SMALL_SIZE)    # fontsize of the tick labels\n",
    "plt.rc('ytick', labelsize=SMALL_SIZE)    # fontsize of the tick labels\n",
    "plt.rc('legend', fontsize=SMALL_SIZE)    # legend fontsize\n",
    "plt.rc('figure', titlesize=BIGGER_SIZE)\n",
    "#plt.rc('font', family='Nimbus Roman No9 L') #uncomment this to use same font as MNRAS - requires font Nimbus Roman No9 L (can be downloaded from https://www.fontsquirrel.com/fonts/nimbus-roman-no9-l)"
   ]
  },
  {
   "cell_type": "code",
   "execution_count": 85,
   "id": "e8c2b244-ef8b-4715-84ad-2f516f5ffc6f",
   "metadata": {},
   "outputs": [],
   "source": [
    "path_to_catalog_data = \"..\\\\..\\\\spin-parity-catalog-data\"\n",
    "output_path_for_gradient_trend = \"..\\\\..\\\\..\\\\gradient_vs_dark_side.png\""
   ]
  },
  {
   "cell_type": "code",
   "execution_count": 86,
   "id": "db3a3e5a-ed1a-4b8b-a6d9-b186827c7e84",
   "metadata": {},
   "outputs": [],
   "source": [
    "def get_galaxies(figure_to_run_on):\n",
    "    return os.listdir(os.path.join(path_to_catalog_data,survery_to_use,figure_to_run_on))"
   ]
  },
  {
   "cell_type": "code",
   "execution_count": 87,
   "id": "88de04a6-cb43-46f3-882f-7512613bade5",
   "metadata": {},
   "outputs": [],
   "source": [
    "def get_dark_side_csv_path(folder_name):\n",
    "    csv_path = \"C:\\\\Users\\\\school\\\\Desktop\\\\github\\\\spin-parity-catalog-data\\\\catalog\"\n",
    "    return os.path.join(csv_path,\"{}.csv\".format(folder_name))\n",
    "\n",
    "def get_color_image_path(name,folder_name):\n",
    "    return os.path.join(path_to_catalog_data,folder_name,name,\"{}_color.jfif\".format(name))"
   ]
  },
  {
   "cell_type": "code",
   "execution_count": 88,
   "id": "cd271cd8",
   "metadata": {},
   "outputs": [],
   "source": [
    "def seperate_out_for_gradient(the_gal, paper_label, poly_degree, max_ang_from_minor,linspace=100):\n",
    "    x = the_gal.gofher_params.x; y = the_gal.gofher_params.x\n",
    "    theta = the_gal.gofher_params.theta\n",
    "    shape = the_gal[the_gal.ref_band].data.shape\n",
    "\n",
    "    xv,yv = create_centered_mesh_grid(x,y,shape)\n",
    "    dist = create_dist_matrix(xv,yv)\n",
    "    ang = np.abs(create_minor_axis_angle_matrix(x,y,theta,shape))\n",
    "    #ang[ang > max_ang_from_minor] = 0.0\n",
    "\n",
    "    el_mask = the_gal.create_ellipse()\n",
    "    pos_mask, neg_mask = the_gal.create_bisection()\n",
    "\n",
    "    to_include = np.logical_and(el_mask,ang < max_ang_from_minor)\n",
    "    b = the_gal.gofher_params.b\n",
    "\n",
    "    \n",
    "    to_return = dict()\n",
    "\n",
    "    for band_pair_key in the_gal.band_pairs:\n",
    "        band_pair = the_gal.get_band_pair(band_pair_key)\n",
    "        diff_image = band_pair.diff_image\n",
    "        diff_image[np.logical_not(to_include)] = -np.Inf\n",
    "\n",
    "        ones = np.ones(shape)\n",
    "        score = score_label(band_pair.classification_label, paper_label)\n",
    "        paper_classification = band_pair.classification*score*-1 #*x-1 for issue with flip\n",
    "\n",
    "        if paper_classification == 1:\n",
    "            ones[neg_mask] *= -1\n",
    "        elif paper_classification == -1:\n",
    "            ones[pos_mask] *= -1\n",
    "        else:\n",
    "            return None\n",
    "\n",
    "        xs = ((ones*dist)/b)[np.logical_not(np.isinf(diff_image))]\n",
    "        ys = diff_image[np.logical_not(np.isinf(diff_image))]\n",
    "        \n",
    "        the_min = np.min(diff_image[np.logical_not(np.isinf(diff_image))])\n",
    "        the_max = np.max(diff_image[np.logical_not(np.isinf(diff_image))])\n",
    "        ys_normed = (ys-the_min)/(the_max-the_min)\n",
    "\n",
    "        to_return[band_pair_key] = np.polynomial.Polynomial.fit(xs, ys_normed, poly_degree).linspace(linspace)\n",
    "\n",
    "    return to_return\n",
    "\n",
    "def plot_all_trends(all_trends, output_path=\"\", poly_degree=10, linspace=100):\n",
    "    keys = [['g-r', 'g-i'],\n",
    "            ['g-z', 'g-y'],\n",
    "            ['r-i', 'r-z'],\n",
    "            ['r-y','i-z'],\n",
    "            ['i-y','z-y']]\n",
    "    first_fig = ['a','b','c','d','e','f','g','h','i','j']\n",
    "    count = 0\n",
    "    fig, axd = plt.subplot_mosaic(keys,figsize=(10/3, 7),\n",
    "                                  constrained_layout=True,num=1, clear=True) #num=1, clear=True #https://stackoverflow.com/a/65910539/13544635\n",
    "    fig.patch.set_facecolor('white')\n",
    "    for band_pair in all_trends:\n",
    "        xs = []\n",
    "        ys = []\n",
    "        for each in all_trends[band_pair]:\n",
    "            x = each[0]\n",
    "            y = each[1]\n",
    "            mask = np.logical_and(x>-1.0,x<1.0)\n",
    "            xs.extend(list(x[mask]))\n",
    "            ys.extend(list(y[mask]))\n",
    "            axd[band_pair].plot(x,y, alpha=0.25,linewidth=1.0,c='blue')\n",
    "\n",
    "        aggregate_trend = np.polynomial.Polynomial.fit(xs, ys, poly_degree).linspace(linspace)\n",
    "        axd[band_pair].plot(*aggregate_trend,linewidth=1.0,c='red', ls='--')\n",
    "\n",
    "        axd[band_pair].axvline(0.0,c='black')\n",
    "\n",
    "        \n",
    "        i = np.argmin(aggregate_trend[1])\n",
    "        min_x = aggregate_trend[0][i]\n",
    "        axd[band_pair].axvline(min_x,c='red',linewidth=1.0)\n",
    "        \n",
    "        the_title = \"({}) {}:\".format(first_fig[count],band_pair)\n",
    "        axd[band_pair].set_title(the_title)\n",
    "        axd[band_pair].set_ylabel(\"||Difference||\")\n",
    "        axd[band_pair].set_xlabel(\"||Distance||\")\n",
    "        \n",
    "        axd[band_pair].set_xlim([-1, 1])\n",
    "        axd[band_pair].set_ylim([0, 1])\n",
    "        count += 1\n",
    "    if output_path != \"\":\n",
    "        fig.savefig(output_path, dpi = 300, bbox_inches='tight')\n",
    "        fig.clear()\n",
    "        plt.close(fig)\n",
    "    else:\n",
    "        plt.show()\n"
   ]
  },
  {
   "cell_type": "code",
   "execution_count": 89,
   "id": "11945fcb",
   "metadata": {},
   "outputs": [],
   "source": [
    "def run_on_folder_name(folder_name):\n",
    "    paper_labels = read_spin_parity_galaxies_label_from_csv(get_dark_side_csv_path(folder_name))\n",
    "\n",
    "    all_trends = defaultdict(list)\n",
    "\n",
    "    i=1\n",
    "    for name in get_galaxies(folder_name):\n",
    "        print(i,name)\n",
    "\n",
    "        if standardize_galaxy_name(name) not in paper_labels:\n",
    "            print(\"skippimg\",name)\n",
    "            continue\n",
    "\n",
    "        paper_label = paper_labels[standardize_galaxy_name(name)]\n",
    "\n",
    "        get_fits_path = lambda name,band: os.path.join(path_to_catalog_data,survery_to_use,folder_name,name,\"{}_{}.fits\".format(name,band))\n",
    "\n",
    "        try:\n",
    "            the_gal = run_gofher(name,get_fits_path,BANDS_IN_ORDER,REF_BANDS_IN_ORDER, paper_label)\n",
    "            gal_trend_lines = seperate_out_for_gradient(the_gal,paper_label,10,math.pi/4)\n",
    "            \n",
    "            if isinstance(gal_trend_lines,type(None)):\n",
    "                print(\"skipping\")\n",
    "                continue\n",
    "            to_include = True\n",
    "            for each_band_pair in gal_trend_lines:\n",
    "                x = gal_trend_lines[each_band_pair][0]\n",
    "                y = gal_trend_lines[each_band_pair][1]\n",
    "                if np.max(x) > 2.0 or np.min(x) < -2.0 or np.max(y) > 1.5 or np.min(y) < -0.5:\n",
    "                    to_include = False\n",
    "                    break\n",
    "\n",
    "            if not to_include:\n",
    "                print(\"skipping\")\n",
    "                continue\n",
    "\n",
    "            for each_band_pair in gal_trend_lines:\n",
    "                all_trends[each_band_pair].append(gal_trend_lines[each_band_pair])\n",
    "\n",
    "        except Exception as e:\n",
    "            print(\"Exception on gal\",name,e)\n",
    "        i += 1\n",
    "        #if i > 10: break #you can uncomment this if you are debugging something and just want to run on a single galaxy\n",
    "    return all_trends\n"
   ]
  },
  {
   "cell_type": "code",
   "execution_count": 90,
   "id": "c2e1ea2b",
   "metadata": {},
   "outputs": [],
   "source": [
    "observed_folders = [\"figure8\",\"figure10\",\"figure11\"] #use this for galaxies in which dark side was directly observed (see Iye et al. 2019)\n",
    "inferred_folders = [\"figure9\"] #use this for galaxies in which dark side was infered (see Iye et al. 2019)"
   ]
  },
  {
   "cell_type": "code",
   "execution_count": 91,
   "id": "7683f7af",
   "metadata": {},
   "outputs": [],
   "source": [
    "save_figure = False"
   ]
  },
  {
   "cell_type": "code",
   "execution_count": 92,
   "id": "54a37778",
   "metadata": {},
   "outputs": [
    {
     "name": "stdout",
     "output_type": "stream",
     "text": [
      "figure9\n"
     ]
    }
   ],
   "source": [
    "if not os.path.exists(path_to_catalog_data):\n",
    "    raise ValueError(\"The path to the catalog is not found {} - make sure you update path_to_catalog_data\".format(path_to_catalog_data))\n",
    "\n",
    "all_trends = defaultdict(list)\n",
    "\n",
    "#for folder_name in observed_folders:\n",
    "for folder_name in inferred_folders:\n",
    "    print(folder_name)\n",
    "    returned = run_on_folder_name(folder_name)\n",
    "    for each_key in returned:\n",
    "        all_trends[each_key].extend(returned[each_key])\n",
    "\n",
    "output_pa = output_path_for_gradient_trend if save_figure else \"\"\n",
    "plot_all_trends(all_trends,output_pa,10,100)\n"
   ]
  },
  {
   "cell_type": "code",
   "execution_count": 93,
   "id": "1113b18f",
   "metadata": {},
   "outputs": [],
   "source": [
    "k = list(all_trends.keys())[0]\n",
    "print(len(all_trends[k]))"
   ]
  }
 ],
 "metadata": {
  "kernelspec": {
   "display_name": "Python 3",
   "language": "python",
   "name": "python3"
  },
  "language_info": {
   "codemirror_mode": {
    "name": "ipython",
    "version": 3
   },
   "file_extension": ".py",
   "mimetype": "text/x-python",
   "name": "python",
   "nbconvert_exporter": "python",
   "pygments_lexer": "ipython3",
   "version": "3.8.8"
  }
 },
 "nbformat": 4,
 "nbformat_minor": 5
}
