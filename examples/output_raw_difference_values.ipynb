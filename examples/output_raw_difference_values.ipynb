{
 "cells": [
  {
   "cell_type": "code",
   "execution_count": 1,
   "metadata": {},
   "outputs": [],
   "source": [
    "import sys\n",
    "sys.path.insert(0, '../gofher')\n",
    "\n",
    "import numpy as np\n",
    "import csv\n",
    "\n",
    "import os\n",
    "import matplotlib.image as mpimg\n",
    "import matplotlib.pyplot as plt\n",
    "\n",
    "from gofher import run_gofher\n",
    "from galaxy import galaxy\n",
    "from matrix import create_centered_mesh_grid\n",
    "from visualize import visualize\n",
    "from fits import write_fits\n",
    "from file_helper import write_csv,check_if_folder_exists_and_create\n",
    "from spin_parity import read_spin_parity_galaxies_label_from_csv, standardize_galaxy_name"
   ]
  },
  {
   "cell_type": "code",
   "execution_count": 2,
   "metadata": {},
   "outputs": [],
   "source": [
    "survery_to_use = \"panstarrs\"\n",
    "\n",
    "BANDS_IN_ORDER = ['g','r','i','z','y'] #Important: Must stay in order of BLUEST to REDDEST Waveband (Editting this will cause gofher to no longer correctly evaluate redder side of galaxy)\n",
    "REF_BANDS_IN_ORDER = ['i','z','y','r','g'] #The prefernce each waveband being choosen as refernce band from highest priority to lowest priority"
   ]
  },
  {
   "cell_type": "code",
   "execution_count": 3,
   "metadata": {},
   "outputs": [],
   "source": [
    "figure_to_run_on = \"figure9\""
   ]
  },
  {
   "cell_type": "code",
   "execution_count": 4,
   "metadata": {},
   "outputs": [],
   "source": [
    "generate_verbose_csv = False\n",
    "generate_ebm_csv = False\n",
    "generate_visualization = True\n",
    "save_visualization = False"
   ]
  },
  {
   "cell_type": "code",
   "execution_count": 5,
   "metadata": {},
   "outputs": [],
   "source": [
    "#Important: Make sure you update these values:\n",
    "#path_to_catalog_data = \"..\\\\..\\\\spin-parity-catalog-data\"\n",
    "path_to_catalog_data = \"../../spin-parity-catalog-data\"\n",
    "#path_to_output = \"..\\\\..\\\\gofher-data\\\\panstarrs\\\\source_extraction\""
   ]
  },
  {
   "cell_type": "code",
   "execution_count": 6,
   "metadata": {},
   "outputs": [],
   "source": [
    "def get_fits_path(name,band):\n",
    "    \"\"\"the file path of where existing fits files can be found\"\"\"\n",
    "    return os.path.join(path_to_catalog_data,survery_to_use,figure_to_run_on,name,\"{}_{}.fits\".format(name,band))\n",
    "\n",
    "def get_color_image_path(name):\n",
    "    return os.path.join(path_to_catalog_data,survery_to_use,figure_to_run_on,name,\"{}_color.jfif\".format(name))\n",
    "\n",
    "def get_path_to_catalog_csv():\n",
    "    return os.path.join(path_to_catalog_data,\"catalog\",\"{}.csv\".format(figure_to_run_on))"
   ]
  },
  {
   "cell_type": "code",
   "execution_count": 7,
   "metadata": {},
   "outputs": [],
   "source": [
    "def get_paper_dark_side_labels():\n",
    "    return read_spin_parity_galaxies_label_from_csv(get_path_to_catalog_csv())\n",
    "\n",
    "def get_galaxies():\n",
    "    return os.listdir(os.path.join(path_to_catalog_data,survery_to_use,figure_to_run_on))"
   ]
  },
  {
   "cell_type": "code",
   "execution_count": 8,
   "metadata": {},
   "outputs": [],
   "source": [
    "def generate_raw_csvs(gal,path_to_folder=''):\n",
    "    output_pa = os.path.join(path_to_folder,gal.name)\n",
    "    check_if_folder_exists_and_create(output_pa)\n",
    "    \n",
    "    pos,neg = gal.create_bisection()\n",
    "    to_output = pos.astype(int) - neg.astype(int)\n",
    "    to_output *= gal.area_to_diff\n",
    "\n",
    "    write_fits(os.path.join(output_pa,\"{}_raw.fits\".format(gal.name)),to_output)\n",
    "\n",
    "    to_write = []\n",
    "\n",
    "    for band_pair_key in gal.band_pairs:\n",
    "        band_pair = gal.band_pairs[band_pair_key]\n",
    "\n",
    "        write_fits(os.path.join(output_pa,\"{}_{}.fits\".format(gal.name,band_pair_key)),band_pair.diff_image)\n",
    "\n",
    "        p = np.logical_and(pos,gal.area_to_diff)\n",
    "        n = np.logical_and(neg,gal.area_to_diff)\n",
    "        \n",
    "        to_write.append([\"{}_{}\".format(band_pair_key,gal.pos_side_label)] +list(band_pair.diff_image[p]))\n",
    "        to_write.append([\"{}_{}\".format(band_pair_key,gal.neg_side_label)] +list(band_pair.diff_image[n]))\n",
    "\n",
    "    with open(os.path.join(output_pa,\"{}_raw.csv\".format(gal.name)),'w',newline='') as f:\n",
    "        writer = csv.writer(f)\n",
    "        writer.writerows(to_write)\n",
    "\n",
    "def generate_new_raw_csv(gal: galaxy,path_to_folder=''):\n",
    "    h = gal.gofher_params.x; k = gal.gofher_params.y; shape = gal.area_to_diff.shape\n",
    "    theta = gal.gofher_params.theta\n",
    "    xv, yv = create_centered_mesh_grid(h,k,shape)\n",
    "\n",
    "    el_maj_axis_pixel_coord = (xv*np.cos(theta)+yv*np.sin(theta))[gal.area_to_diff]\n",
    "    el_min_axis_pixel_coord = (-xv*np.sin(theta)+yv*np.cos(theta))[gal.area_to_diff]\n",
    "    data = gal.band_pairs['r-y'].diff_image[gal.area_to_diff]\n",
    "\n",
    "    to_write = np.array([el_maj_axis_pixel_coord,el_min_axis_pixel_coord,data]).transpose()\n",
    "\n",
    "    plt.imshow((xv*np.cos(theta)+yv*np.sin(theta))*gal.area_to_diff,origin='lower')\n",
    "    plt.show()\n",
    "    plt.imshow((-xv*np.sin(theta)+yv*np.cos(theta))*gal.area_to_diff,origin='lower')\n",
    "    plt.show()\n",
    "\n",
    "    #pa = os.path.join(path_to_folder,\"{}_r-y.csv\".format(gal.name))\n",
    "    #print(pa)\n",
    "    #np.savetxt(pa, to_write, delimiter=\",\")"
   ]
  },
  {
   "cell_type": "code",
   "execution_count": 9,
   "metadata": {},
   "outputs": [],
   "source": [
    "def run_gofher_on_catalog(gals_to_run_on = []):\n",
    "    paper_labels = get_paper_dark_side_labels()\n",
    "\n",
    "    verbose_header = []\n",
    "    verbose_rows = []\n",
    "\n",
    "    ebm_header = []\n",
    "    ebm_rows = []\n",
    "\n",
    "    i = 1\n",
    "\n",
    "\n",
    "    for name in get_galaxies():\n",
    "        if len(gals_to_run_on) > 0 and name not in gals_to_run_on:\n",
    "            continue\n",
    "\n",
    "        if standardize_galaxy_name(name) not in paper_labels:\n",
    "            print(\"skippimg\",name)\n",
    "            continue\n",
    "\n",
    "        print(name, i,\"of\",len(get_galaxies()))\n",
    "\n",
    "        #try:\n",
    "        if True:\n",
    "            paper_label = paper_labels[standardize_galaxy_name(name)]\n",
    "            gal = run_gofher(name,get_fits_path,BANDS_IN_ORDER,REF_BANDS_IN_ORDER, paper_label)\n",
    "\n",
    "            #pa = \"/Users/cora-at-work/Desktop/raw_diff_output\"\n",
    "            pa = \"C:\\\\Users\\\\school\\\\Desktop\\\\raw_diff_output\"\n",
    "            #generate_raw_csvs(gal,pa)\n",
    "            generate_new_raw_csv(gal,pa)\n",
    "        #except Exception as e:\n",
    "        #print(e)\n",
    "        i += 1\n"
   ]
  },
  {
   "cell_type": "code",
   "execution_count": 10,
   "metadata": {},
   "outputs": [],
   "source": [
    "figure_10_gals = [\"NGC3726\"]\n",
    "figure_9_gals = [\"NGC3992\",\n",
    "                \"NGC2525\",\n",
    "                \"NGC628\",\n",
    "                \"NGC278\",\n",
    "                \"NGC3344\",\n",
    "                \"NGC3346\",\n",
    "                \"NGC3445\",\n",
    "                \"NGC3642\",\n",
    "                \"NGC4351\",\n",
    "                \"NGC4490\",\n",
    "                \"NGC4701\",\n",
    "                \"NGC5218\",\n",
    "                \"NGC5669\",\n",
    "                \"NGC7549\",\n",
    "                \"PGC06855\",\n",
    "                \"PGC07826\",\n",
    "                \"PGC20938\",\n",
    "                \"PGC23913\",\n",
    "                \"PGC27792\",\n",
    "                \"PGC49906\",\n",
    "                \"UGC10796\",\n",
    "                \"UGC1081\",\n",
    "                \"UGC12391\",\n",
    "                \"UGC1529\",\n",
    "                \"UGC1635\",\n",
    "                \"UGC1908\",\n",
    "                \"UGC312\",\n",
    "                \"UGC3140\",\n",
    "                \"UGC3997\",\n",
    "                \"UGC4036\",\n",
    "                \"UGC4458\",\n",
    "                \"UGC448\",\n",
    "                \"UGC4555\",\n",
    "                \"UGC4622\",\n",
    "                \"UGC463\",\n",
    "                \"UGC4936\",\n",
    "                \"UGC6903\",\n",
    "                \"UGC6918\",\n",
    "                \"UGC7244\",\n",
    "                \"UGC8196\",\n",
    "                \"UGC9965\"]\n",
    "\n",
    "additional_gals = ['NGC1']"
   ]
  },
  {
   "cell_type": "code",
   "execution_count": 11,
   "metadata": {},
   "outputs": [
    {
     "name": "stdout",
     "output_type": "stream",
     "text": [
      "NGC1 1 of 317\n"
     ]
    },
    {
     "data": {
      "image/png": "[encoded data removed]",
      "text/plain": [
       "<Figure size 432x288 with 1 Axes>"
      ]
     },
     "metadata": {
      "needs_background": "light"
     },
     "output_type": "display_data"
    },
    {
     "data": {
      "image/png": "[encoded data removed]",
      "text/plain": [
       "<Figure size 432x288 with 1 Axes>"
      ]
     },
     "metadata": {
      "needs_background": "light"
     },
     "output_type": "display_data"
    }
   ],
   "source": [
    "if not os.path.exists(path_to_catalog_data):\n",
    "    raise ValueError(\"The path to the catalog is not found {} - make sure you update path_to_catalog_data\".format(path_to_catalog_data))\n",
    "\n",
    "\n",
    "run_gofher_on_catalog(additional_gals)\n",
    "#generate_new_raw_csv(figure_10_gals)"
   ]
  },
  {
   "cell_type": "code",
   "execution_count": null,
   "metadata": {},
   "outputs": [],
   "source": []
  },
  {
   "cell_type": "code",
   "execution_count": null,
   "metadata": {},
   "outputs": [],
   "source": []
  },
  {
   "cell_type": "code",
   "execution_count": null,
   "metadata": {},
   "outputs": [],
   "source": []
  }
 ],
 "metadata": {
  "kernelspec": {
   "display_name": "Python 3",
   "language": "python",
   "name": "python3"
  },
  "language_info": {
   "codemirror_mode": {
    "name": "ipython",
    "version": 3
   },
   "file_extension": ".py",
   "mimetype": "text/x-python",
   "name": "python",
   "nbconvert_exporter": "python",
   "pygments_lexer": "ipython3",
   "version": "3.8.8"
  }
 },
 "nbformat": 4,
 "nbformat_minor": 4
}
