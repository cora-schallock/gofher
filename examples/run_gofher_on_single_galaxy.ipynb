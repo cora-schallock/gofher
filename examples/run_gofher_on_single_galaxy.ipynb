{
 "cells": [
  {
   "cell_type": "code",
   "execution_count": 39,
   "id": "4e8f7e5e-9dea-4993-839f-077438ab4330",
   "metadata": {},
   "outputs": [],
   "source": [
    "import os\n",
    "\n",
    "import sys\n",
    "sys.path.insert(0, '../gofher')\n",
    "\n",
    "from run_gofher_on_a_galaxy import run_panstarrs"
   ]
  },
  {
   "cell_type": "code",
   "execution_count": 40,
   "id": "e8c2b244-ef8b-4715-84ad-2f516f5ffc6f",
   "metadata": {},
   "outputs": [],
   "source": [
    "name = \"NGC3786\""
   ]
  },
  {
   "cell_type": "code",
   "execution_count": 41,
   "id": "db3a3e5a-ed1a-4b8b-a6d9-b186827c7e84",
   "metadata": {},
   "outputs": [],
   "source": [
    "path_to_input = \"/Users/cora-at-work/Downloads\"\n",
    "path_to_output = \"/Users/cora-at-work/Downloads/{}/{}_gofher_vis.png\".format(name,name)\n",
    "color_image_path = \"/Users/cora-at-work/Downloads/{}/{}_color.jpg\".format(name,name)"
   ]
  },
  {
   "cell_type": "code",
   "execution_count": 42,
   "id": "88de04a6-cb43-46f3-882f-7512613bade5",
   "metadata": {},
   "outputs": [],
   "source": [
    "def get_fits_path(name,band):\n",
    "    \"\"\"the file path of where existing fits files can be found\"\"\"\n",
    "    return os.path.join(path_to_input,name,\"{}_{}.fits\".format(name,band))"
   ]
  },
  {
   "cell_type": "code",
   "execution_count": 43,
   "id": "4710296c-0b43-4e53-8eba-7adbefd0cdd0",
   "metadata": {},
   "outputs": [
    {
     "data": {
      "text/plain": [
       "<galaxy.galaxy at 0x7fd841a34670>"
      ]
     },
     "execution_count": 43,
     "metadata": {},
     "output_type": "execute_result"
    }
   ],
   "source": [
    "run_panstarrs(name,get_fits_path,path_to_output, dark_side_label='NW', color_image_path=color_image_path)"
   ]
  }
 ],
 "metadata": {
  "kernelspec": {
   "display_name": "Python 3",
   "language": "python",
   "name": "python3"
  },
  "language_info": {
   "codemirror_mode": {
    "name": "ipython",
    "version": 3
   },
   "file_extension": ".py",
   "mimetype": "text/x-python",
   "name": "python",
   "nbconvert_exporter": "python",
   "pygments_lexer": "ipython3",
   "version": "3.8.8"
  }
 },
 "nbformat": 4,
 "nbformat_minor": 5
}
